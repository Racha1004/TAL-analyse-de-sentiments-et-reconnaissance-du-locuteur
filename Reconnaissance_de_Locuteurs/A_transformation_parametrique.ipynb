{
 "cells": [
  {
   "cell_type": "code",
   "execution_count": 1,
   "metadata": {},
   "outputs": [],
   "source": [
    "import numpy as np\n",
    "import matplotlib.pyplot as plt\n",
    "from collections import Counter\n",
    "import pandas as pd\n",
    "\n",
    "import codecs\n",
    "import re\n",
    "import os.path\n",
    "import common as cmn"
   ]
  },
  {
   "cell_type": "markdown",
   "metadata": {},
   "source": [
    "# Données reconnaissance du locuteur (Chirac/Mitterrand)"
   ]
  },
  {
   "cell_type": "code",
   "execution_count": 2,
   "metadata": {},
   "outputs": [],
   "source": [
    "fname = \"../datasets/AFDpresidentutf8/corpus.tache1.learn.utf8\"\n",
    "alltxts,alllabs = cmn.load_pres(fname)"
   ]
  },
  {
   "cell_type": "code",
   "execution_count": 3,
   "metadata": {},
   "outputs": [
    {
     "name": "stdout",
     "output_type": "stream",
     "text": [
      "57413 57413\n",
      " Quand je dis chers amis, il ne s'agit pas là d'une formule diplomatique, mais de l'expression de ce que je ressens.\n",
      "\n",
      "1\n",
      " Je compte sur vous.\n",
      "1\n"
     ]
    }
   ],
   "source": [
    "print(len(alltxts),len(alllabs))\n",
    "print(alltxts[0])\n",
    "print(alllabs[0])\n",
    "print(alltxts[-1])\n",
    "print(alllabs[-1])\n"
   ]
  },
  {
   "cell_type": "markdown",
   "metadata": {},
   "source": [
    "# 0) Analyse exploratrice des données :"
   ]
  },
  {
   "cell_type": "code",
   "execution_count": 4,
   "metadata": {},
   "outputs": [
    {
     "data": {
      "text/html": [
       "<div>\n",
       "<style scoped>\n",
       "    .dataframe tbody tr th:only-of-type {\n",
       "        vertical-align: middle;\n",
       "    }\n",
       "\n",
       "    .dataframe tbody tr th {\n",
       "        vertical-align: top;\n",
       "    }\n",
       "\n",
       "    .dataframe thead th {\n",
       "        text-align: right;\n",
       "    }\n",
       "</style>\n",
       "<table border=\"1\" class=\"dataframe\">\n",
       "  <thead>\n",
       "    <tr style=\"text-align: right;\">\n",
       "      <th></th>\n",
       "      <th>text</th>\n",
       "      <th>label</th>\n",
       "    </tr>\n",
       "  </thead>\n",
       "  <tbody>\n",
       "    <tr>\n",
       "      <th>0</th>\n",
       "      <td>Quand je dis chers amis, il ne s'agit pas là ...</td>\n",
       "      <td>1</td>\n",
       "    </tr>\n",
       "    <tr>\n",
       "      <th>1</th>\n",
       "      <td>D'abord merci de cet exceptionnel accueil que...</td>\n",
       "      <td>1</td>\n",
       "    </tr>\n",
       "    <tr>\n",
       "      <th>2</th>\n",
       "      <td>C'est toujours très émouvant de venir en Afri...</td>\n",
       "      <td>1</td>\n",
       "    </tr>\n",
       "    <tr>\n",
       "      <th>3</th>\n",
       "      <td>Aucun citoyen français ne peut être indiffére...</td>\n",
       "      <td>1</td>\n",
       "    </tr>\n",
       "    <tr>\n",
       "      <th>4</th>\n",
       "      <td>Le Congo, que naguère le &lt;nom&gt; qualifia de \"r...</td>\n",
       "      <td>1</td>\n",
       "    </tr>\n",
       "    <tr>\n",
       "      <th>...</th>\n",
       "      <td>...</td>\n",
       "      <td>...</td>\n",
       "    </tr>\n",
       "    <tr>\n",
       "      <th>57408</th>\n",
       "      <td>Je suis heureux de le mener avec vous.\\n</td>\n",
       "      <td>1</td>\n",
       "    </tr>\n",
       "    <tr>\n",
       "      <th>57409</th>\n",
       "      <td>Vous le savez, comme vous, j'ai la passion de...</td>\n",
       "      <td>1</td>\n",
       "    </tr>\n",
       "    <tr>\n",
       "      <th>57410</th>\n",
       "      <td>Je crois en son avenir.\\n</td>\n",
       "      <td>1</td>\n",
       "    </tr>\n",
       "    <tr>\n",
       "      <th>57411</th>\n",
       "      <td>Je crois en la politique, c'est-à-dire en not...</td>\n",
       "      <td>1</td>\n",
       "    </tr>\n",
       "    <tr>\n",
       "      <th>57412</th>\n",
       "      <td>Je compte sur vous.</td>\n",
       "      <td>1</td>\n",
       "    </tr>\n",
       "  </tbody>\n",
       "</table>\n",
       "<p>57413 rows × 2 columns</p>\n",
       "</div>"
      ],
      "text/plain": [
       "                                                    text  label\n",
       "0       Quand je dis chers amis, il ne s'agit pas là ...      1\n",
       "1       D'abord merci de cet exceptionnel accueil que...      1\n",
       "2       C'est toujours très émouvant de venir en Afri...      1\n",
       "3       Aucun citoyen français ne peut être indiffére...      1\n",
       "4       Le Congo, que naguère le <nom> qualifia de \"r...      1\n",
       "...                                                  ...    ...\n",
       "57408           Je suis heureux de le mener avec vous.\\n      1\n",
       "57409   Vous le savez, comme vous, j'ai la passion de...      1\n",
       "57410                          Je crois en son avenir.\\n      1\n",
       "57411   Je crois en la politique, c'est-à-dire en not...      1\n",
       "57412                                Je compte sur vous.      1\n",
       "\n",
       "[57413 rows x 2 columns]"
      ]
     },
     "execution_count": 4,
     "metadata": {},
     "output_type": "execute_result"
    }
   ],
   "source": [
    "# Création d'un dataframe pour notre base de données :\n",
    "data_frame_discours = pd.DataFrame()\n",
    "data_frame_discours['text'] = alltxts\n",
    "data_frame_discours['label'] = alllabs\n",
    "data_frame_discours"
   ]
  },
  {
   "cell_type": "code",
   "execution_count": 5,
   "metadata": {},
   "outputs": [
    {
     "name": "stdout",
     "output_type": "stream",
     "text": [
      "Nombre de texts :  57413\n",
      "----> # de C :  49890\n",
      "----> # de M :  7523\n"
     ]
    }
   ],
   "source": [
    "counter = Counter( alllabs)\n",
    "print(\"Nombre de texts : \", len(alllabs))\n",
    "print(\"----> # de C : \", counter[1])\n",
    "print(\"----> # de M : \", counter[-1])"
   ]
  },
  {
   "cell_type": "markdown",
   "metadata": {},
   "source": [
    "##### Visualisation de la proportion des deux classes :\n",
    "-   Afin de bien visualiser la distribution de celles ci nous procédons ainsi : "
   ]
  },
  {
   "cell_type": "code",
   "execution_count": 6,
   "metadata": {},
   "outputs": [
    {
     "data": {
      "image/png": "[encoded data removed]",
      "text/plain": [
       "<Figure size 576x432 with 1 Axes>"
      ]
     },
     "metadata": {
      "needs_background": "light"
     },
     "output_type": "display_data"
    }
   ],
   "source": [
    "classes = list(counter.keys())\n",
    "frequences = list(counter.values())\n",
    "\n",
    "plt.figure(figsize=(8, 6)) \n",
    "\n",
    "# On crée un diagramme à barres\n",
    "bars = plt.bar(classes, frequences, color=['red', 'blue'],edgecolor=\"black\")\n",
    "\n",
    "# On ajoute des titres et des étiquettes\n",
    "plt.title('Proportion des classes')\n",
    "plt.xlabel('Classes')\n",
    "plt.ylabel('Fréquence')\n",
    "plt.legend(bars, ['Chirac', 'Mitterrand'])\n",
    "\n",
    "plt.grid(True, linestyle='--', alpha=0.7)\n",
    "\n",
    "# On afffiche\n",
    "plt.show()"
   ]
  },
  {
   "cell_type": "code",
   "execution_count": 7,
   "metadata": {},
   "outputs": [
    {
     "data": {
      "text/plain": [
       "<Axes: ylabel='count'>"
      ]
     },
     "execution_count": 7,
     "metadata": {},
     "output_type": "execute_result"
    },
    {
     "data": {
      "image/png": "[encoded data removed]",
      "text/plain": [
       "<Figure size 432x288 with 1 Axes>"
      ]
     },
     "metadata": {},
     "output_type": "display_data"
    }
   ],
   "source": [
    "data_frame_discours['label'].value_counts().plot.pie(autopct='%.2f')"
   ]
  },
  {
   "cell_type": "markdown",
   "metadata": {},
   "source": [
    " On identifie un déséquilibre significatif entre les classes de nos échantillons. Cette disparité est particulièrement visible dans la différence de fréquence entre les phrases dites par Chirac et celles dites par Mitterrand. En effet, nos résultats révèlent que le nombre de phrases attribuées à Chirac est nettement supérieur à celui attribué à Mitterrand."
   ]
  },
  {
   "cell_type": "markdown",
   "metadata": {},
   "source": [
    "#### Visualisation de la disctribution des longueurs de text prononcés par nos deux locuteurs :"
   ]
  },
  {
   "cell_type": "code",
   "execution_count": 8,
   "metadata": {},
   "outputs": [
    {
     "data": {
      "text/html": [
       "<div>\n",
       "<style scoped>\n",
       "    .dataframe tbody tr th:only-of-type {\n",
       "        vertical-align: middle;\n",
       "    }\n",
       "\n",
       "    .dataframe tbody tr th {\n",
       "        vertical-align: top;\n",
       "    }\n",
       "\n",
       "    .dataframe thead th {\n",
       "        text-align: right;\n",
       "    }\n",
       "</style>\n",
       "<table border=\"1\" class=\"dataframe\">\n",
       "  <thead>\n",
       "    <tr style=\"text-align: right;\">\n",
       "      <th></th>\n",
       "      <th>text</th>\n",
       "      <th>label</th>\n",
       "      <th>length_txt</th>\n",
       "    </tr>\n",
       "  </thead>\n",
       "  <tbody>\n",
       "    <tr>\n",
       "      <th>0</th>\n",
       "      <td>Quand je dis chers amis, il ne s'agit pas là ...</td>\n",
       "      <td>1</td>\n",
       "      <td>117</td>\n",
       "    </tr>\n",
       "    <tr>\n",
       "      <th>1</th>\n",
       "      <td>D'abord merci de cet exceptionnel accueil que...</td>\n",
       "      <td>1</td>\n",
       "      <td>113</td>\n",
       "    </tr>\n",
       "    <tr>\n",
       "      <th>2</th>\n",
       "      <td>C'est toujours très émouvant de venir en Afri...</td>\n",
       "      <td>1</td>\n",
       "      <td>304</td>\n",
       "    </tr>\n",
       "    <tr>\n",
       "      <th>3</th>\n",
       "      <td>Aucun citoyen français ne peut être indiffére...</td>\n",
       "      <td>1</td>\n",
       "      <td>76</td>\n",
       "    </tr>\n",
       "    <tr>\n",
       "      <th>4</th>\n",
       "      <td>Le Congo, que naguère le &lt;nom&gt; qualifia de \"r...</td>\n",
       "      <td>1</td>\n",
       "      <td>187</td>\n",
       "    </tr>\n",
       "    <tr>\n",
       "      <th>...</th>\n",
       "      <td>...</td>\n",
       "      <td>...</td>\n",
       "      <td>...</td>\n",
       "    </tr>\n",
       "    <tr>\n",
       "      <th>57408</th>\n",
       "      <td>Je suis heureux de le mener avec vous.\\n</td>\n",
       "      <td>1</td>\n",
       "      <td>40</td>\n",
       "    </tr>\n",
       "    <tr>\n",
       "      <th>57409</th>\n",
       "      <td>Vous le savez, comme vous, j'ai la passion de...</td>\n",
       "      <td>1</td>\n",
       "      <td>58</td>\n",
       "    </tr>\n",
       "    <tr>\n",
       "      <th>57410</th>\n",
       "      <td>Je crois en son avenir.\\n</td>\n",
       "      <td>1</td>\n",
       "      <td>25</td>\n",
       "    </tr>\n",
       "    <tr>\n",
       "      <th>57411</th>\n",
       "      <td>Je crois en la politique, c'est-à-dire en not...</td>\n",
       "      <td>1</td>\n",
       "      <td>96</td>\n",
       "    </tr>\n",
       "    <tr>\n",
       "      <th>57412</th>\n",
       "      <td>Je compte sur vous.</td>\n",
       "      <td>1</td>\n",
       "      <td>20</td>\n",
       "    </tr>\n",
       "  </tbody>\n",
       "</table>\n",
       "<p>57413 rows × 3 columns</p>\n",
       "</div>"
      ],
      "text/plain": [
       "                                                    text  label  length_txt\n",
       "0       Quand je dis chers amis, il ne s'agit pas là ...      1         117\n",
       "1       D'abord merci de cet exceptionnel accueil que...      1         113\n",
       "2       C'est toujours très émouvant de venir en Afri...      1         304\n",
       "3       Aucun citoyen français ne peut être indiffére...      1          76\n",
       "4       Le Congo, que naguère le <nom> qualifia de \"r...      1         187\n",
       "...                                                  ...    ...         ...\n",
       "57408           Je suis heureux de le mener avec vous.\\n      1          40\n",
       "57409   Vous le savez, comme vous, j'ai la passion de...      1          58\n",
       "57410                          Je crois en son avenir.\\n      1          25\n",
       "57411   Je crois en la politique, c'est-à-dire en not...      1          96\n",
       "57412                                Je compte sur vous.      1          20\n",
       "\n",
       "[57413 rows x 3 columns]"
      ]
     },
     "execution_count": 8,
     "metadata": {},
     "output_type": "execute_result"
    }
   ],
   "source": [
    "data_frame_discours['length_txt']= data_frame_discours['text'].apply(len)\n",
    "data_frame_discours"
   ]
  },
  {
   "cell_type": "code",
   "execution_count": 9,
   "metadata": {},
   "outputs": [
    {
     "data": {
      "image/png": "[encoded data removed]",
      "text/plain": [
       "<Figure size 864x432 with 2 Axes>"
      ]
     },
     "metadata": {
      "needs_background": "light"
     },
     "output_type": "display_data"
    }
   ],
   "source": [
    "\n",
    "fig, axs = plt.subplots(1, 2, figsize=(12, 6))  # 2 sous-tracés côte à côte\n",
    "\n",
    "# Diviser les données des CHirac et Mitterand en fonction des lables\n",
    "groupes = data_frame_discours.groupby('label')['length_txt']\n",
    "\n",
    "# Tracer un histogramme pour chaque groupe\n",
    "for i, (groupe_name, groupe_data) in enumerate(groupes):\n",
    "    groupe_name = \"Mitterrand\" if groupe_name == -1 else  \"Chirac\"\n",
    "\n",
    "    axs[i].hist(groupe_data, bins=45, alpha=0.6, label=f'Groupe {groupe_name}', color='blue', edgecolor='white', linewidth=1.2)\n",
    "    \n",
    "    #POur avoir une grille\n",
    "    axs[i].grid(True, linestyle='--', alpha=0.7)\n",
    "\n",
    "    # On ajouter des titres et des étiquettes\n",
    "    axs[i].set_title(f'Distribution des longueurs des discours - Groupe {groupe_name}', fontsize=14)\n",
    "    axs[i].set_xlabel(f'Longueur des discours prononcé par {groupe_name}', fontsize=12)\n",
    "    axs[i].set_ylabel('Fréquence', fontsize=12)\n",
    "\n",
    "    axs[i].legend()\n",
    "\n",
    "# On affiche les sous-graphiques\n",
    "plt.tight_layout()\n",
    "plt.show()"
   ]
  },
  {
   "cell_type": "markdown",
   "metadata": {},
   "source": [
    "-   Essayons d'afficher la plus grande phrase ainsi que ces proprités :"
   ]
  },
  {
   "cell_type": "code",
   "execution_count": 10,
   "metadata": {},
   "outputs": [
    {
     "name": "stdout",
     "output_type": "stream",
     "text": [
      "La taille de la plus longue phrase prononcée :  2530\n",
      "Dite par :  1\n"
     ]
    }
   ],
   "source": [
    "#data_frame_discours[data_frame_discours['length_txt'] == data_frame_discours['length_txt'].max()]['text'].iloc[0]\n",
    "print(\"La taille de la plus longue phrase prononcée : \",data_frame_discours['length_txt'].max())\n",
    "print(\"Dite par : \",data_frame_discours[data_frame_discours['length_txt'] == data_frame_discours['length_txt'].max()]['label'].iloc[0]) # ELle appartient a CHirac : 1"
   ]
  },
  {
   "cell_type": "markdown",
   "metadata": {},
   "source": [
    "# A) Transformation paramétrique du texte (pre-traitements)\n",
    "\n",
    "On teste les cas suivants:\n",
    "- suppression de la ponctuation\n",
    "- transformation en minuscule ou pas\n",
    "- transformation des mots entièrement en majuscule en marqueurs spécifiques\n",
    "- suppression des chiffres ou pas\n",
    "- conservation d'une partie du texte seulement (seulement la première ligne = titre, seulement la dernière ligne = résumé, ...)\n",
    "- stemming\n",
    "- lemmatization \n",
    "\n",
    "\n",
    "Ici nous verifions d'abord dans un premier lieu l'ensemble des fonction qu'on va utiliser "
   ]
  },
  {
   "cell_type": "code",
   "execution_count": 11,
   "metadata": {},
   "outputs": [],
   "source": [
    "import string\n"
   ]
  },
  {
   "cell_type": "markdown",
   "metadata": {},
   "source": [
    "#### A.1) Suppression de la ponctuation :  "
   ]
  },
  {
   "cell_type": "code",
   "execution_count": 12,
   "metadata": {},
   "outputs": [
    {
     "name": "stdout",
     "output_type": "stream",
     "text": [
      "Avant :  Quand je dis chers amis, il ne s'agit pas là d'une formule diplomatique, mais de l'expression de ce que je ressens.\n",
      "\n",
      "Apres :  Quand je dis chers amis  il ne s agit pas là d une formule diplomatique  mais de l expression de ce que je ressens  \n"
     ]
    }
   ],
   "source": [
    "text = data_frame_discours.text[0]\n",
    "print(\"Avant :\" ,text)\n",
    "text =  cmn.suppression_ponctuation(data_frame_discours.text[0])\n",
    "print(\"Apres :\" ,text)\n"
   ]
  },
  {
   "cell_type": "markdown",
   "metadata": {},
   "source": [
    "#### A.2) Remplacer les mots entierelement en majuscule en marqueurs :"
   ]
  },
  {
   "cell_type": "code",
   "execution_count": 13,
   "metadata": {},
   "outputs": [
    {
     "name": "stdout",
     "output_type": "stream",
     "text": [
      "Avant :  Les études de l'OMS et de l'ONUSIDA le démontrent : l'épidémie s'étend, en Asie, en Russie, dans les pays de la CEI, dans les pays d'Europe centrale et orientale.\n",
      "\n",
      "Apres :  Les études de l'**OMS** et de l'**ONUSIDA** le démontrent : l'épidémie s'étend, en Asie, en Russie, dans les pays de la **CEI**, dans les pays d'Europe centrale et orientale.\n",
      "\n"
     ]
    }
   ],
   "source": [
    "text = data_frame_discours.text[2467]\n",
    "print(\"Avant :\",text)\n",
    "print(\"Apres :\",cmn.majuscules_en_marqueurs(text))\n"
   ]
  },
  {
   "cell_type": "markdown",
   "metadata": {},
   "source": [
    "#### A.3) Suppression des chiffres :"
   ]
  },
  {
   "cell_type": "code",
   "execution_count": 14,
   "metadata": {},
   "outputs": [
    {
     "name": "stdout",
     "output_type": "stream",
     "text": [
      " Mes chers compatriotes, vous représentez Ici les quelques 30 000 Français du Maroc et je voudrais vous remercier d'avoir répondu à mon invitation, en effectuant pour certains le déplacement depuis Agadir, Tanger, Fès, Meknès, Marrakech ou d'autres régions du Royaume.\n",
      "\n",
      " Mes chers compatriotes, vous représentez Ici les quelques   Français du Maroc et je voudrais vous remercier d'avoir répondu à mon invitation, en effectuant pour certains le déplacement depuis Agadir, Tanger, Fès, Meknès, Marrakech ou d'autres régions du Royaume.\n",
      "\n"
     ]
    }
   ],
   "source": [
    "print(data_frame_discours.text[139])\n",
    "print(cmn.suppression_chiffres(data_frame_discours.text[139]))"
   ]
  },
  {
   "cell_type": "markdown",
   "metadata": {},
   "source": [
    "#### A.4) Suppression des balises HTML :"
   ]
  },
  {
   "cell_type": "code",
   "execution_count": 15,
   "metadata": {},
   "outputs": [
    {
     "name": "stdout",
     "output_type": "stream",
     "text": [
      "Avant  Le Congo, que naguère le <nom> qualifia de \"refuge pour la liberté\", de \"base de départ pour la libération\", de \"môle pour la Résistance\", comment ne pas être heureux de s'y retrouver ?\n",
      "\n",
      "Apres  Le Congo, que naguère le  qualifia de \"refuge pour la liberté\", de \"base de départ pour la libération\", de \"môle pour la Résistance\", comment ne pas être heureux de s'y retrouver ?\n",
      "\n"
     ]
    }
   ],
   "source": [
    "text = data_frame_discours.text[4]\n",
    "print(\"Avant\",text)\n",
    "print(\"Apres\",cmn.suppression_balises_html(text))"
   ]
  },
  {
   "cell_type": "markdown",
   "metadata": {},
   "source": [
    "#### A.5) Stemming :"
   ]
  },
  {
   "cell_type": "code",
   "execution_count": 16,
   "metadata": {},
   "outputs": [
    {
     "name": "stdout",
     "output_type": "stream",
     "text": [
      "Avant :  Quand je dis chers amis, il ne s'agit pas là d'une formule diplomatique, mais de l'expression de ce que je ressens.\n",
      "\n",
      "Apres : quand je dis cher amis , il ne s'ag pas là d'un formul diplomat , mais de l'express de ce que je ressen .\n"
     ]
    }
   ],
   "source": [
    "text = data_frame_discours.text[0]\n",
    "print(\"Avant :\",text)\n",
    "print(\"Apres :\",cmn.stemming(text))"
   ]
  },
  {
   "cell_type": "markdown",
   "metadata": {},
   "source": [
    "#### A.7) Conservation d'une partie du texte seulement (seulement la première ligne = titre, seulement la dernière ligne = résumé, ...):\n"
   ]
  },
  {
   "cell_type": "markdown",
   "metadata": {},
   "source": [
    "##### Seulement la première :"
   ]
  },
  {
   "cell_type": "code",
   "execution_count": 17,
   "metadata": {},
   "outputs": [
    {
     "name": "stdout",
     "output_type": "stream",
     "text": [
      "Avant :  Il suffit de se retourner de ce côté-là pour apercevoir de profil Saint-Flour qui n'est pas une ville négligeable par son architecture... des châteaux, des fermes, le parcellaire des terres, témoins de tant de travail et de tant de réussites accumulés à travers les siècles au point d'avoir créé une forme d'esthétique, la beauté de la France, à laquelle prend part, évidemment, la beauté de l'Auvergne.\n",
      "\n",
      "Apres :  Il suffit de se retourner de ce côté-là pour apercevoir de profil Saint-Flour qui n'est pas une ville négligeable par son architecture\n"
     ]
    }
   ],
   "source": [
    "text = data_frame_discours.text[162]\n",
    "print(\"Avant :\",text)\n",
    "print(\"Apres :\",cmn.extraire_debut(text))"
   ]
  },
  {
   "cell_type": "markdown",
   "metadata": {},
   "source": [
    "##### Seulement la dernière :"
   ]
  },
  {
   "cell_type": "code",
   "execution_count": 18,
   "metadata": {},
   "outputs": [
    {
     "name": "stdout",
     "output_type": "stream",
     "text": [
      "Avant :  Il suffit de se retourner de ce côté-là pour apercevoir de profil Saint-Flour qui n'est pas une ville négligeable par son architecture... des châteaux, des fermes, le parcellaire des terres, témoins de tant de travail et de tant de réussites accumulés à travers les siècles au point d'avoir créé une forme d'esthétique, la beauté de la France, à laquelle prend part, évidemment, la beauté de l'Auvergne.\n",
      "\n",
      "Apres :  des châteaux, des fermes, le parcellaire des terres, témoins de tant de travail et de tant de réussites accumulés à travers les siècles au point d'avoir créé une forme d'esthétique, la beauté de la France, à laquelle prend part, évidemment, la beauté de l'Auvergne\n"
     ]
    }
   ],
   "source": [
    "text = data_frame_discours.text[162]\n",
    "print(\"Avant :\",text)\n",
    "print(\"Apres :\",cmn.extraire_fin(text))"
   ]
  },
  {
   "cell_type": "markdown",
   "metadata": {},
   "source": [
    "#### Suppression des noms propres :"
   ]
  },
  {
   "cell_type": "code",
   "execution_count": 19,
   "metadata": {},
   "outputs": [
    {
     "name": "stdout",
     "output_type": "stream",
     "text": [
      "Avant :  Il suffit de se retourner de ce côté-là pour apercevoir de profil Saint-Flour qui n'est pas une ville négligeable par son architecture... des châteaux, des fermes, le parcellaire des terres, témoins de tant de travail et de tant de réussites accumulés à travers les siècles au point d'avoir créé une forme d'esthétique, la beauté de la France, à laquelle prend part, évidemment, la beauté de l'Auvergne.\n",
      "\n",
      "Apres :   Il suffit de se retourner de ce côté -là pour apercevoir de profil qui n' est pas une ville négligeable par son architecture ... des châteaux , des fermes , le parcellaire des terres , témoins de tant de travail et de tant de réussites accumulés à travers les siècles au point d' avoir créé une forme d' esthétique , la beauté de la , à laquelle prend part , évidemment , la beauté de l' Auvergne . \n",
      "\n"
     ]
    }
   ],
   "source": [
    "\n",
    "print(\"Avant :\",text)\n",
    "print(\"Apres :\",cmn.remove_proper_nouns(text))"
   ]
  },
  {
   "cell_type": "markdown",
   "metadata": {},
   "source": [
    "# C) Modèles de Machine Learning"
   ]
  },
  {
   "cell_type": "markdown",
   "metadata": {},
   "source": [
    "## 1) Métriques d'évaluation \n",
    "\n",
    "Il faudra utiliser des métriques d'évaluation pertinentes suivant la tâche et l'équilibrage des données : \n",
    "- Accuracy\n",
    "- Courbe ROC, AUC, F1-score"
   ]
  },
  {
   "cell_type": "markdown",
   "metadata": {},
   "source": [
    "## 2) Variantes sur les stratégies d'entraînement\n",
    "\n",
    "- **Sur-apprentissage**. Les techniques sur lesquelles nous travaillons étant sujettes au sur-apprentissage: trouver le paramètre de régularisation dans la documentation et optimiser ce paramètre au sens de la métrique qui vous semble la plus appropriée (cf question précédente).\n",
    "\n",
    " <BR>\n",
    " \n",
    "-  **Equilibrage des données**. Un problème reconnu comme dur dans la communauté est celui de l'équilibrage des classes (*balance* en anglais). Que faire si les données sont à 80, 90 ou 99% dans une des classes?\n",
    "Le problème est dur mais fréquent; les solutions sont multiples mais on peut isoler 3 grandes familles de solution.\n",
    "\n",
    "1. Ré-équilibrer le jeu de données: supprimer des données dans la classe majoritaire et/ou sur-échantilloner la classe minoritaire.<BR>\n",
    "   $\\Rightarrow$ A vous de jouer pour cette technique\n",
    "1. Changer la formulation de la fonction de coût pour pénaliser plus les erreurs dans la classe minoritaire:\n",
    "soit une fonction $\\Delta$ mesurant les écarts entre $f(x_i)$ et $y_i$ \n",
    "$$C = \\sum_i  \\alpha_i \\Delta(f(x_i),y_i), \\qquad \\alpha_i = \\left\\{\n",
    "\\begin{array}{ll}\n",
    "1 & \\text{si } y_i \\in \\text{classe majoritaire}\\\\\n",
    "B>1 & \\text{si } y_i \\in \\text{classe minoritaire}\\\\\n",
    "\\end{array} \\right.$$\n",
    "<BR>\n",
    "   \n",
    "   $\\Rightarrow$ Les SVM et d'autres approches sklearn possèdent des arguments pour régler $B$ ou $1/B$... Ces arguments sont utiles mais pas toujours suffisant.\n",
    "1. Courbe ROC et modification du biais. Une fois la fonction $\\hat y = f(x)$ apprise, il est possible de la *bidouiller* a posteriori: si toutes les prédictions $\\hat y$ sont dans une classe, on va introduire $b$ dans $\\hat y = f(x) + b$ et le faire varier jusqu'à ce qu'un des points change de classe. On peut ensuite aller de plus en plus loin.\n",
    "Le calcul de l'ensemble des scores associés à cette approche mène directement à la courbe ROC.\n",
    "\n",
    "**Note:** certains classifieurs sont intrinsèquement plus résistante au problème d'équilibrage, c'est par exemple le cas des techniques de gradient boosting que vous verrez l'an prochain."
   ]
  },
  {
   "cell_type": "markdown",
   "metadata": {},
   "source": [
    "## 3) Post-processing sur les données Président\n",
    "\n",
    "Pour la tâche de reconnaissance de locuteur, des phrases successives sont souvent associés à un même locuteur. Voir par exemples les 100 premiers labels de la base d'apprentissage. "
   ]
  },
  {
   "cell_type": "code",
   "execution_count": 21,
   "metadata": {},
   "outputs": [
    {
     "data": {
      "text/plain": [
       "[<matplotlib.lines.Line2D at 0x7fa1a980bfd0>]"
      ]
     },
     "execution_count": 21,
     "metadata": {},
     "output_type": "execute_result"
    },
    {
     "data": {
      "image/png": "[encoded data removed]",
      "text/plain": [
       "<Figure size 432x288 with 1 Axes>"
      ]
     },
     "metadata": {
      "needs_background": "light"
     },
     "output_type": "display_data"
    }
   ],
   "source": [
    "# fname = \"./datasets/AFDpresidentutf8/corpus.tache1.learn.utf8\"\n",
    "# alltxts,alllabs = cmn.load_pres(fname)\n",
    "\n",
    "plt.figure()\n",
    "plt.plot(list(range(len(alllabs[0:100]))),alllabs[0:100])"
   ]
  },
  {
   "cell_type": "markdown",
   "metadata": {},
   "source": [
    "**Une méthode de post-traitement pour améliorer les résultats consistent à lisser les résultats de la prédictions d'une phrases par les prédictions voisines, en utilisant par exemple une convolution par une filtre Gaussien. Compléter la fonction ci-dessous et tester l'impact de ce lissage sur les performances.**"
   ]
  },
  {
   "cell_type": "code",
   "execution_count": null,
   "metadata": {},
   "outputs": [],
   "source": [
    "def gaussian_smoothing(pred, size):\n",
    "     # LISSAGE par un filtre Gaussien de taille size - vous pouvez utiliser np.convolve \n",
    "    return 0"
   ]
  },
  {
   "cell_type": "markdown",
   "metadata": {},
   "source": [
    "\n",
    "## 4) Estimer les performances de généralisation d'une méthodes\n",
    "**Ce sera l'enjeu principal du projet : vous disposez d'un ensemble de données, et vous évaluerez les performances sur un ensemble de test auquel vous n'avez pas accès. Il faut donc être capable d'estimer les performances de généralisation du modèles à partir des données d'entraînement.**"
   ]
  },
  {
   "cell_type": "markdown",
   "metadata": {},
   "source": [
    "\n",
    "Avant de lancer de grandes expériences, il faut se construire une base de travail solide en étudiant les questions suivantes:\n",
    "\n",
    "- Combien de temps ça prend d'apprendre un classifieur NB/SVM/RegLog sur ces données en fonction de la taille du vocabulaire?\n",
    "- La validation croisée est-elle nécessaire? Est ce qu'on obtient les mêmes résultats avec un simple *split*?\n",
    "- La validation croisée est-elle stable? A partir de combien de fold (travailler avec différentes graines aléatoires et faire des statistiques basiques)?"
   ]
  }
 ],
 "metadata": {
  "kernelspec": {
   "display_name": "Python 3",
   "language": "python",
   "name": "python3"
  },
  "language_info": {
   "codemirror_mode": {
    "name": "ipython",
    "version": 3
   },
   "file_extension": ".py",
   "mimetype": "text/x-python",
   "name": "python",
   "nbconvert_exporter": "python",
   "pygments_lexer": "ipython3",
   "version": "3.8.10"
  }
 },
 "nbformat": 4,
 "nbformat_minor": 2
}
