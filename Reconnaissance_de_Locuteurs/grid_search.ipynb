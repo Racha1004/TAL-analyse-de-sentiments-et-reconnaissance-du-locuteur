{
  "cells": [
    {
      "cell_type": "markdown",
      "metadata": {
        "id": "qR5W39UDWGS2"
      },
      "source": [
        "## Lecture des données :"
      ]
    },
    {
      "cell_type": "code",
      "execution_count": 1,
      "metadata": {
        "id": "pMpC4mHwWGS2"
      },
      "outputs": [],
      "source": [
        "import numpy as np\n",
        "import matplotlib.pyplot as plt\n",
        "from collections import Counter\n",
        "import pandas as pd\n",
        "import common as cmn\n",
        "from sklearn.model_selection import GridSearchCV\n",
        "from sklearn.pipeline import Pipeline\n",
        "from sklearn.linear_model import LogisticRegression\n",
        "from sklearn.feature_extraction.text import ENGLISH_STOP_WORDS\n",
        "from sklearn.feature_extraction.text import TfidfVectorizer,CountVectorizer\n",
        "from nltk.tokenize import word_tokenize\n",
        "from sklearn.model_selection import train_test_split\n",
        "from sklearn.metrics import make_scorer, f1_score, roc_auc_score, accuracy_score\n",
        "\n",
        "\n",
        "from scipy.ndimage import gaussian_filter\n",
        "\n",
        "\n",
        "import warnings\n",
        "warnings.filterwarnings(\"ignore\", category=UserWarning, module=\"sklearn.model_selection._validation\")"
      ]
    },
    {
      "cell_type": "code",
      "execution_count": 2,
      "metadata": {
        "id": "nTWp0dqJWGS3"
      },
      "outputs": [],
      "source": [
        "fname = \"../datasets/AFDpresidentutf8/corpus.tache1.learn.utf8\"\n",
        "alltxts,alllabs = cmn.load_pres(fname)\n"
      ]
    },
    {
      "cell_type": "markdown",
      "metadata": {
        "id": "vfs_d-eLWGS4"
      },
      "source": [
        "## Fonction grid_search"
      ]
    },
    {
      "cell_type": "code",
      "execution_count": 3,
      "metadata": {
        "id": "jscwad_YWGS4"
      },
      "outputs": [],
      "source": [
        "\n",
        "def grid_search (parameters , scoring,preprocessors ,score_to_maximize):\n",
        "    pipeline = Pipeline([\n",
        "    ('tfidf', TfidfVectorizer(preprocessor=preprocessors)),\n",
        "    ('reg', LogisticRegression())\n",
        "    ])\n",
        "\n",
        "    [X_all_train, X_all_test, Y_train, y_test]  = train_test_split(alltxts, alllabs, test_size=0.3, random_state=10, shuffle=True)\n",
        "\n",
        "\n",
        "    grid_search = GridSearchCV(pipeline, parameters,scoring=scoring, refit=score_to_maximize, cv=5, n_jobs=-1, verbose=1)\n",
        "\n",
        "\n",
        "    grid_search.fit(X_all_train, Y_train)\n",
        "\n",
        "\n",
        "    print(\"Meilleurs paramètres trouvés:\")\n",
        "    print(grid_search.best_params_)\n",
        "    #_____________\n",
        "\n",
        "    best_model = grid_search.best_estimator_\n",
        "    y_pred = best_model.predict_proba(X_all_test)\n",
        "\n",
        "    smoothed_pred = gaussian_filter(y_pred,sigma=0.1)\n",
        "    smoothed_pred_labels = (2 * (smoothed_pred[:,0] >= 0.5) - 1).astype(int)\n",
        "\n",
        "    f1 = f1_score(y_test, smoothed_pred_labels,  pos_label=-1)  \n",
        "\n",
        "    roc_auc = roc_auc_score(y_test, smoothed_pred_labels)\n",
        "    accuracy = accuracy_score(y_test, (smoothed_pred_labels > 0.5).astype(int))\n",
        "\n",
        "    print(\"Performance après lissage:\")\n",
        "    print(\"F1 Score:\", f1)\n",
        "    print(\"AUC:\", roc_auc)\n",
        "    print(\"Accuracy:\", accuracy)\n",
        "\n"
      ]
    },
    {
      "cell_type": "markdown",
      "metadata": {
        "id": "X9kTq5IXWGS5"
      },
      "source": [
        "## Test 1 :\n",
        "On essaye de penaliser notre classe minoritaire avec diffèrentes vaaleurs de pénaisation"
      ]
    },
    {
      "cell_type": "code",
      "execution_count": 13,
      "metadata": {
        "colab": {
          "base_uri": "https://localhost:8080/"
        },
        "id": "m0qrVS1IWGS5",
        "outputId": "7b67b8ba-16a0-4f91-b6b8-530656a4e65f"
      },
      "outputs": [
        {
          "name": "stdout",
          "output_type": "stream",
          "text": [
            "Fitting 5 folds for each of 24 candidates, totalling 120 fits\n",
            "Meilleurs paramètres trouvés:\n",
            "{'reg__C': 10, 'reg__class_weight': {1: 1, -1: 5}, 'reg__max_iter': 10000, 'reg__penalty': 'l2', 'reg__tol': 0.0001, 'tfidf__binary': True, 'tfidf__max_df': 0.5, 'tfidf__max_features': 100000, 'tfidf__min_df': 2, 'tfidf__ngram_range': (1, 2)}\n",
            "Performance après lissage:\n",
            "F1 Score: 0.6344735077129444\n",
            "AUC: 0.7827068919817048\n",
            "Accuracy: 0.8226892707849512\n"
          ]
        }
      ],
      "source": [
        "class_weights = {\n",
        "    1: 1.0,  # Class 1, the majority class, gets weight 1.0 (default weight)\n",
        "    -1: 5.0  # Class -1, the minority class, gets weight 5.0\n",
        "}\n",
        "\n",
        "\n",
        "parameters = {\n",
        "    'tfidf__max_df': [ 0.2,0.5],\n",
        "    'tfidf__min_df': [2],\n",
        "    'tfidf__ngram_range': [ (1, 2)],\n",
        "    'tfidf__binary': [True],\n",
        "    'tfidf__max_features': [100000],\n",
        "    'reg__class_weight': [{1: 1, -1: w} for w in [1, 5, 10, 20]],\n",
        "    'reg__max_iter': [10000],\n",
        "    'reg__tol': [1e-4],\n",
        "    'reg__penalty': [ 'l2' ],\n",
        "    'reg__C': [ 1,10,100]\n",
        "}\n",
        "\n",
        "scoring = {\n",
        "    'f1_score': make_scorer(f1_score,pos_label=-1),\n",
        "    'roc_auc': make_scorer(roc_auc_score),\n",
        "    'accuracy': make_scorer(accuracy_score)\n",
        "}\n",
        "preprocessors = lambda x: ((cmn.suppression_chiffres(cmn.majuscules_en_marqueurs((cmn.suppression_balises_html((x)))))))\n",
        "\n",
        "grid_search (parameters , scoring,preprocessors ,'f1_score')\n"
      ]
    },
    {
      "cell_type": "markdown",
      "metadata": {
        "id": "zlCBw28RWGS7"
      },
      "source": [
        "### Test 2 :\n",
        "Maximiser le f1 score de la classe minoritaire"
      ]
    },
    {
      "cell_type": "code",
      "execution_count": 14,
      "metadata": {
        "colab": {
          "base_uri": "https://localhost:8080/"
        },
        "id": "j8tVv_YGWGS7",
        "outputId": "66b6fcb0-743b-4880-816f-242cf27fd04d"
      },
      "outputs": [
        {
          "name": "stdout",
          "output_type": "stream",
          "text": [
            "Fitting 5 folds for each of 12 candidates, totalling 60 fits\n",
            "Meilleurs paramètres trouvés:\n",
            "{'reg__C': 10, 'reg__class_weight': {1: 1.0, -1: 5.0}, 'reg__max_iter': 10000, 'reg__penalty': 'l2', 'reg__tol': 0.0001, 'tfidf__binary': True, 'tfidf__max_df': 0.5, 'tfidf__max_features': 100000, 'tfidf__min_df': 2, 'tfidf__ngram_range': (1, 2)}\n",
            "Performance après lissage:\n",
            "F1 Score: 0.6368715083798883\n",
            "AUC: 0.7841424676623252\n",
            "Accuracy: 0.822921504876916\n"
          ]
        }
      ],
      "source": [
        "class_weights = {\n",
        "    1: 1.0,  # Class 1, the majority class, gets weight 1.0 (default weight)\n",
        "    -1: 5.0  # Class -1, the minority class, gets weight 5.0\n",
        "}\n",
        "\n",
        "\n",
        "parameters = {\n",
        "    'tfidf__max_df': [ 0.5],\n",
        "    'tfidf__min_df': [2],\n",
        "    'tfidf__ngram_range': [ (1, 2)],\n",
        "    'tfidf__binary': [True],\n",
        "    'tfidf__max_features': [40000,100000],\n",
        "    'reg__class_weight': ['balanced',class_weights],\n",
        "    'reg__max_iter': [10000],\n",
        "    'reg__tol': [1e-4],\n",
        "    'reg__penalty': [ 'l2' ],\n",
        "    'reg__C': [ 1,10,100]\n",
        "}\n",
        "\n",
        "scoring = {\n",
        "    'f1_score': make_scorer(f1_score,pos_label=-1),\n",
        "    'roc_auc': make_scorer(roc_auc_score),\n",
        "    'accuracy': make_scorer(accuracy_score)\n",
        "}\n",
        "preprocessors = lambda x: (((cmn.majuscules_en_marqueurs((cmn.suppression_balises_html((x)))))))\n",
        "\n",
        "grid_search (parameters , scoring,preprocessors ,'f1_score')\n"
      ]
    },
    {
      "cell_type": "markdown",
      "metadata": {
        "id": "SXsoMUoBWGS8"
      },
      "source": [
        "### Test 3 :\n",
        "Maximiser roc auc score"
      ]
    },
    {
      "cell_type": "code",
      "execution_count": 15,
      "metadata": {
        "colab": {
          "base_uri": "https://localhost:8080/"
        },
        "id": "8lsU4ntSWGS8",
        "outputId": "06a46b30-77b7-478f-85ad-0ee699e9ec35"
      },
      "outputs": [
        {
          "name": "stdout",
          "output_type": "stream",
          "text": [
            "Fitting 5 folds for each of 12 candidates, totalling 60 fits\n",
            "Meilleurs paramètres trouvés:\n",
            "{'reg__C': 1, 'reg__class_weight': 'balanced', 'reg__max_iter': 10000, 'reg__penalty': 'l2', 'reg__tol': 0.0001, 'tfidf__binary': True, 'tfidf__max_df': 0.5, 'tfidf__max_features': 100000, 'tfidf__min_df': 2, 'tfidf__ngram_range': (1, 2)}\n",
            "Performance après lissage:\n",
            "F1 Score: 0.5928350609201672\n",
            "AUC: 0.8011627939099627\n",
            "Accuracy: 0.7753715745471436\n"
          ]
        }
      ],
      "source": [
        "class_weights = {\n",
        "    1: 1.0,  # Class 1, the majority class, gets weight 1.0 (default weight)\n",
        "    -1: 5.0  # Class -1, the minority class, gets weight 5.0\n",
        "}\n",
        "\n",
        "\n",
        "parameters = {\n",
        "    'tfidf__max_df': [ 0.5],\n",
        "    'tfidf__min_df': [2],\n",
        "    'tfidf__ngram_range': [ (1, 2)],\n",
        "    'tfidf__binary': [True],\n",
        "    'tfidf__max_features': [40000,100000],\n",
        "    'reg__class_weight': ['balanced',class_weights],\n",
        "    'reg__max_iter': [10000],\n",
        "    'reg__tol': [1e-4],\n",
        "    'reg__penalty': [ 'l2' ],\n",
        "    'reg__C': [ 1,10,100]\n",
        "}\n",
        "\n",
        "scoring = {\n",
        "    'f1_score': make_scorer(f1_score,pos_label=-1),\n",
        "    'roc_auc': make_scorer(roc_auc_score),\n",
        "    'accuracy': make_scorer(accuracy_score)\n",
        "}\n",
        "preprocessors = lambda x: (((cmn.majuscules_en_marqueurs((cmn.suppression_balises_html((x)))))))\n",
        "\n",
        "grid_search (parameters , scoring,preprocessors ,'roc_auc')\n"
      ]
    },
    {
      "cell_type": "markdown",
      "metadata": {
        "id": "gwEYDNgHWGS8"
      },
      "source": [
        "### Test 4:\n",
        "essayer de maximiser des deux"
      ]
    },
    {
      "cell_type": "code",
      "execution_count": null,
      "metadata": {
        "id": "rLA1qnlpWGS-",
        "outputId": "1ef8b57d-0690-4387-90c6-4f5c4cd2a376"
      },
      "outputs": [
        {
          "name": "stdout",
          "output_type": "stream",
          "text": [
            "Fitting 5 folds for each of 1 candidates, totalling 5 fits\n",
            "Meilleurs paramètres trouvés:\n",
            "{'reg__C': 10, 'reg__class_weight': {1: 1, -1: 5}, 'reg__max_iter': 10000, 'reg__penalty': 'l2', 'reg__tol': 0.0001, 'tfidf__binary': True, 'tfidf__max_df': 0.45, 'tfidf__max_features': 90000, 'tfidf__min_df': 2, 'tfidf__ngram_range': (1, 2)}\n",
            "Performance après lissage:\n",
            "F1 Score: 0.6349419124218052\n",
            "AUC: 0.7831072171504867\n",
            "Accuracy: 0.82263121226196\n"
          ]
        }
      ],
      "source": [
        "class_weights = {\n",
        "    1: 1.0,  # Class 1, the majority class, gets weight 1.0 (default weight)\n",
        "    -1: 5.0  # Class -1, the minority class, gets weight 5.0\n",
        "}\n",
        "\n",
        "\n",
        "parameters = {\n",
        "    'tfidf__max_df': [ 0.45],\n",
        "    'tfidf__min_df': [2],\n",
        "    'tfidf__ngram_range': [ (1, 2)],\n",
        "    'tfidf__binary': [True],\n",
        "    'tfidf__max_features': [90000],\n",
        "    'reg__class_weight': [{1: 1, -1: 5} ],\n",
        "    'reg__max_iter': [10000],\n",
        "    'reg__tol': [1e-4],\n",
        "    'reg__penalty': [ 'l2' ],\n",
        "    'reg__C': [ 10]\n",
        "}\n",
        "\n",
        "scoring = {\n",
        "    'f1_score': make_scorer(f1_score,pos_label=-1),\n",
        "    'roc_auc': make_scorer(roc_auc_score),\n",
        "    'accuracy': make_scorer(accuracy_score)\n",
        "}\n",
        "preprocessors = lambda x: ((cmn.suppression_chiffres(cmn.majuscules_en_marqueurs(cmn.suppression_ponctuation(cmn.suppression_balises_html((x)))))))\n",
        "\n",
        "grid_search (parameters , scoring,preprocessors ,'f1_score')\n"
      ]
    },
    {
      "cell_type": "code",
      "execution_count": null,
      "metadata": {
        "id": "opF0TqryWGS_",
        "outputId": "6487190d-ab9b-463a-e348-74356b58d288"
      },
      "outputs": [
        {
          "name": "stdout",
          "output_type": "stream",
          "text": [
            "Fitting 5 folds for each of 1 candidates, totalling 5 fits\n",
            "Meilleurs paramètres trouvés:\n",
            "{'reg__C': 10, 'reg__class_weight': {1: 1, -1: 5}, 'reg__max_iter': 1000, 'reg__penalty': 'l2', 'reg__tol': 0.0001, 'tfidf__binary': True, 'tfidf__max_df': 0.45, 'tfidf__max_features': 90000, 'tfidf__min_df': 2, 'tfidf__ngram_range': (1, 2)}\n",
            "Performance après lissage:\n",
            "F1 Score: 0.6361607142857143\n",
            "AUC: 0.7839748961092721\n",
            "Accuracy: 0.82263121226196\n"
          ]
        }
      ],
      "source": [
        "class_weights = {\n",
        "    1: 1.0,  # Class 1, the majority class, gets weight 1.0 (default weight)\n",
        "    -1: 5.0  # Class -1, the minority class, gets weight 5.0\n",
        "}\n",
        "\n",
        "\n",
        "parameters = {\n",
        "    'tfidf__max_df': [ 0.45],\n",
        "    'tfidf__min_df': [2],\n",
        "    'tfidf__ngram_range': [ (1, 2)],\n",
        "    'tfidf__binary': [True],\n",
        "    'tfidf__max_features': [90000],\n",
        "    'reg__class_weight': [{1: 1, -1: 5} ],\n",
        "    'reg__max_iter': [1000],\n",
        "    'reg__tol': [1e-4],\n",
        "    'reg__penalty': [ 'l2' ],\n",
        "    'reg__C': [ 10]\n",
        "}\n",
        "\n",
        "scoring = {\n",
        "    'f1_score': make_scorer(f1_score,pos_label=-1),\n",
        "    'roc_auc': make_scorer(roc_auc_score),\n",
        "    'accuracy': make_scorer(accuracy_score)\n",
        "}\n",
        "preprocessors = lambda x: ((((cmn.suppression_ponctuation(cmn.suppression_balises_html((x)))))))\n",
        "\n",
        "grid_search (parameters , scoring,preprocessors ,'f1_score')\n"
      ]
    },
    {
      "cell_type": "code",
      "execution_count": null,
      "metadata": {
        "id": "-fzNIc4LWGTA",
        "outputId": "33af0bf4-4576-429d-cbb0-f93ac9ae6093"
      },
      "outputs": [
        {
          "name": "stdout",
          "output_type": "stream",
          "text": [
            "Fitting 5 folds for each of 1 candidates, totalling 5 fits\n",
            "Meilleurs paramètres trouvés:\n",
            "{'reg__C': 10, 'reg__class_weight': {1: 1, -1: 5}, 'reg__max_iter': 1000, 'reg__penalty': 'l2', 'reg__tol': 0.0001, 'tfidf__binary': True, 'tfidf__max_df': 0.45, 'tfidf__max_features': 90000, 'tfidf__min_df': 2, 'tfidf__ngram_range': (1, 2)}\n",
            "Performance après lissage:\n",
            "F1 Score: 0.6296296296296295\n",
            "AUC: 0.7804017907837535\n",
            "Accuracy: 0.8217022758941013\n"
          ]
        }
      ],
      "source": [
        "class_weights = {\n",
        "    1: 1.0,  # Class 1, the majority class, gets weight 1.0 (default weight)\n",
        "    -1: 5.0  # Class -1, the minority class, gets weight 5.0\n",
        "}\n",
        "\n",
        "\n",
        "parameters = {\n",
        "    'tfidf__max_df': [ 0.45],\n",
        "    'tfidf__min_df': [2],\n",
        "    'tfidf__ngram_range': [ (1, 2)],\n",
        "    'tfidf__binary': [True],\n",
        "    'tfidf__max_features': [90000],\n",
        "    'reg__class_weight': [{1: 1, -1: 5} ],\n",
        "    'reg__max_iter': [1000],\n",
        "    'reg__tol': [1e-4],\n",
        "    'reg__penalty': [ 'l2' ],\n",
        "    'reg__C': [ 10]\n",
        "}\n",
        "\n",
        "scoring = {\n",
        "    'f1_score': make_scorer(f1_score,pos_label=-1),\n",
        "    'roc_auc': make_scorer(roc_auc_score),\n",
        "    'accuracy': make_scorer(accuracy_score)\n",
        "}\n",
        "preprocessors = lambda x: (cmn.lemmatization(cmn.majuscules_en_marqueurs((cmn.suppression_ponctuation(cmn.suppression_balises_html((x)))))))\n",
        "\n",
        "grid_search (parameters , scoring,preprocessors ,'f1_score')\n"
      ]
    },
    {
      "cell_type": "markdown",
      "metadata": {
        "id": "UfuSi3nXWGTC"
      },
      "source": [
        "### test ppti : avec over sample\n"
      ]
    },
    {
      "cell_type": "code",
      "execution_count": 4,
      "metadata": {
        "id": "yvsQ-pVMWGTC"
      },
      "outputs": [],
      "source": [
        "from imblearn.pipeline import Pipeline\n",
        "from sklearn.model_selection import train_test_split, GridSearchCV\n",
        "from sklearn.feature_extraction.text import TfidfVectorizer\n",
        "from sklearn.linear_model import LogisticRegression\n",
        "from sklearn.metrics import f1_score, roc_auc_score, accuracy_score\n",
        "from scipy.ndimage import gaussian_filter\n",
        "\n",
        "def grid_search_ov(parameters, scoring, preprocessors, score_to_maximize):\n",
        "    X_all_train, X_all_test, Y_train, y_test = train_test_split(alltxts, alllabs, test_size=0.3, random_state=10, shuffle=True)\n",
        "\n",
        "    tfidf_vectorizer = TfidfVectorizer(preprocessor=preprocessors)\n",
        "\n",
        "    pipeline = Pipeline([\n",
        "        ('tfidf', tfidf_vectorizer),\n",
        "        ('reg', LogisticRegression())\n",
        "    ])\n",
        "\n",
        "    grid_search = GridSearchCV(pipeline, parameters, scoring=scoring, refit=score_to_maximize, cv=5, n_jobs=-1, verbose=1)\n",
        "\n",
        "    grid_search.fit(X_all_train, Y_train)\n",
        "\n",
        "    print(\"Meilleurs paramètres trouvés:\")\n",
        "    print(grid_search.best_params_)\n",
        "\n",
        "    best_model = grid_search.best_estimator_\n",
        "\n",
        "    y_pred = best_model.predict_proba(X_all_test)\n",
        "\n",
        "    smoothed_pred = gaussian_filter(y_pred, sigma=0.1)\n",
        "    smoothed_pred_labels = (2 * (smoothed_pred[:,0] >= 0.5) - 1).astype(int)\n",
        "\n",
        "    f1 = f1_score(y_test, smoothed_pred_labels, pos_label=-1)\n",
        "    roc_auc = roc_auc_score(y_test, smoothed_pred_labels)\n",
        "    accuracy = accuracy_score(y_test, (smoothed_pred_labels > 0.5).astype(int))\n",
        "\n",
        "    print(\"Performance après lissage:\")\n",
        "    print(\"F1 Score:\", f1)\n",
        "    print(\"AUC:\", roc_auc)\n",
        "    print(\"Accuracy:\", accuracy)\n",
        "    return tfidf_vectorizer\n"
      ]
    },
    {
      "cell_type": "code",
      "execution_count": null,
      "metadata": {
        "id": "QKekBrg7WGTD",
        "outputId": "fa16f723-b0ba-4df8-b9fc-ccc590097e59"
      },
      "outputs": [
        {
          "name": "stdout",
          "output_type": "stream",
          "text": [
            "Fitting 5 folds for each of 1 candidates, totalling 5 fits\n",
            "Meilleurs paramètres trouvés:\n",
            "{'reg__C': 10, 'reg__max_iter': 1000, 'reg__penalty': 'l2', 'reg__tol': 0.0001, 'tfidf__binary': True, 'tfidf__max_df': 0.45, 'tfidf__max_features': 90000, 'tfidf__min_df': 2, 'tfidf__ngram_range': (1, 2)}\n",
            "Performance après lissage:\n",
            "F1 Score: 0.6303874619068349\n",
            "AUC: 0.7859142478567198\n",
            "Accuracy: 0.8173478866697631\n"
          ]
        },
        {
          "data": {
            "text/html": [
              "<style>#sk-container-id-6 {color: black;}#sk-container-id-6 pre{padding: 0;}#sk-container-id-6 div.sk-toggleable {background-color: white;}#sk-container-id-6 label.sk-toggleable__label {cursor: pointer;display: block;width: 100%;margin-bottom: 0;padding: 0.3em;box-sizing: border-box;text-align: center;}#sk-container-id-6 label.sk-toggleable__label-arrow:before {content: \"▸\";float: left;margin-right: 0.25em;color: #696969;}#sk-container-id-6 label.sk-toggleable__label-arrow:hover:before {color: black;}#sk-container-id-6 div.sk-estimator:hover label.sk-toggleable__label-arrow:before {color: black;}#sk-container-id-6 div.sk-toggleable__content {max-height: 0;max-width: 0;overflow: hidden;text-align: left;background-color: #f0f8ff;}#sk-container-id-6 div.sk-toggleable__content pre {margin: 0.2em;color: black;border-radius: 0.25em;background-color: #f0f8ff;}#sk-container-id-6 input.sk-toggleable__control:checked~div.sk-toggleable__content {max-height: 200px;max-width: 100%;overflow: auto;}#sk-container-id-6 input.sk-toggleable__control:checked~label.sk-toggleable__label-arrow:before {content: \"▾\";}#sk-container-id-6 div.sk-estimator input.sk-toggleable__control:checked~label.sk-toggleable__label {background-color: #d4ebff;}#sk-container-id-6 div.sk-label input.sk-toggleable__control:checked~label.sk-toggleable__label {background-color: #d4ebff;}#sk-container-id-6 input.sk-hidden--visually {border: 0;clip: rect(1px 1px 1px 1px);clip: rect(1px, 1px, 1px, 1px);height: 1px;margin: -1px;overflow: hidden;padding: 0;position: absolute;width: 1px;}#sk-container-id-6 div.sk-estimator {font-family: monospace;background-color: #f0f8ff;border: 1px dotted black;border-radius: 0.25em;box-sizing: border-box;margin-bottom: 0.5em;}#sk-container-id-6 div.sk-estimator:hover {background-color: #d4ebff;}#sk-container-id-6 div.sk-parallel-item::after {content: \"\";width: 100%;border-bottom: 1px solid gray;flex-grow: 1;}#sk-container-id-6 div.sk-label:hover label.sk-toggleable__label {background-color: #d4ebff;}#sk-container-id-6 div.sk-serial::before {content: \"\";position: absolute;border-left: 1px solid gray;box-sizing: border-box;top: 0;bottom: 0;left: 50%;z-index: 0;}#sk-container-id-6 div.sk-serial {display: flex;flex-direction: column;align-items: center;background-color: white;padding-right: 0.2em;padding-left: 0.2em;position: relative;}#sk-container-id-6 div.sk-item {position: relative;z-index: 1;}#sk-container-id-6 div.sk-parallel {display: flex;align-items: stretch;justify-content: center;background-color: white;position: relative;}#sk-container-id-6 div.sk-item::before, #sk-container-id-6 div.sk-parallel-item::before {content: \"\";position: absolute;border-left: 1px solid gray;box-sizing: border-box;top: 0;bottom: 0;left: 50%;z-index: -1;}#sk-container-id-6 div.sk-parallel-item {display: flex;flex-direction: column;z-index: 1;position: relative;background-color: white;}#sk-container-id-6 div.sk-parallel-item:first-child::after {align-self: flex-end;width: 50%;}#sk-container-id-6 div.sk-parallel-item:last-child::after {align-self: flex-start;width: 50%;}#sk-container-id-6 div.sk-parallel-item:only-child::after {width: 0;}#sk-container-id-6 div.sk-dashed-wrapped {border: 1px dashed gray;margin: 0 0.4em 0.5em 0.4em;box-sizing: border-box;padding-bottom: 0.4em;background-color: white;}#sk-container-id-6 div.sk-label label {font-family: monospace;font-weight: bold;display: inline-block;line-height: 1.2em;}#sk-container-id-6 div.sk-label-container {text-align: center;}#sk-container-id-6 div.sk-container {/* jupyter's `normalize.less` sets `[hidden] { display: none; }` but bootstrap.min.css set `[hidden] { display: none !important; }` so we also need the `!important` here to be able to override the default hidden behavior on the sphinx rendered scikit-learn.org. See: https://github.com/scikit-learn/scikit-learn/issues/21755 */display: inline-block !important;position: relative;}#sk-container-id-6 div.sk-text-repr-fallback {display: none;}</style><div id=\"sk-container-id-6\" class=\"sk-top-container\"><div class=\"sk-text-repr-fallback\"><pre>TfidfVectorizer(preprocessor=&lt;function &lt;lambda&gt; at 0x7fa369437670&gt;)</pre><b>In a Jupyter environment, please rerun this cell to show the HTML representation or trust the notebook. <br />On GitHub, the HTML representation is unable to render, please try loading this page with nbviewer.org.</b></div><div class=\"sk-container\" hidden><div class=\"sk-item\"><div class=\"sk-estimator sk-toggleable\"><input class=\"sk-toggleable__control sk-hidden--visually\" id=\"sk-estimator-id-6\" type=\"checkbox\" checked><label for=\"sk-estimator-id-6\" class=\"sk-toggleable__label sk-toggleable__label-arrow\">TfidfVectorizer</label><div class=\"sk-toggleable__content\"><pre>TfidfVectorizer(preprocessor=&lt;function &lt;lambda&gt; at 0x7fa369437670&gt;)</pre></div></div></div></div></div>"
            ],
            "text/plain": [
              "TfidfVectorizer(preprocessor=<function <lambda> at 0x7fa369437670>)"
            ]
          },
          "execution_count": 27,
          "metadata": {},
          "output_type": "execute_result"
        }
      ],
      "source": [
        "\n",
        "parameters = {\n",
        "    'tfidf__max_df': [ 0.45],\n",
        "\n",
        "    'tfidf__min_df': [2],\n",
        "    'tfidf__ngram_range': [ (1, 2)],\n",
        "    'tfidf__binary': [True],\n",
        "    'tfidf__max_features': [90000],\n",
        "    'reg__max_iter': [1000],\n",
        "    'reg__tol': [1e-4],\n",
        "    'reg__penalty': [ 'l2' ],\n",
        "    'reg__C': [ 10]\n",
        "\n",
        "}\n",
        "\n",
        "scoring = {\n",
        "    'f1_score': make_scorer(f1_score,pos_label=-1),\n",
        "    'roc_auc': make_scorer(roc_auc_score),\n",
        "    'accuracy': make_scorer(accuracy_score)\n",
        "}\n",
        "preprocessors = lambda x: (cmn.suppression_chiffres(cmn.majuscules_en_marqueurs((cmn.suppression_ponctuation(cmn.suppression_balises_html((x)))))))\n",
        "\n",
        "grid_search_ov (parameters , scoring,preprocessors ,'f1_score')\n"
      ]
    },
    {
      "cell_type": "code",
      "execution_count": null,
      "metadata": {
        "id": "jmeXdBErWGTE",
        "outputId": "4c872d02-1612-4857-ab80-3c006054839c"
      },
      "outputs": [
        {
          "name": "stdout",
          "output_type": "stream",
          "text": [
            "Fitting 5 folds for each of 1 candidates, totalling 5 fits\n"
          ]
        },
        {
          "name": "stdout",
          "output_type": "stream",
          "text": [
            "Meilleurs paramètres trouvés:\n",
            "{'reg__C': 10, 'reg__max_iter': 1000, 'reg__penalty': 'l2', 'reg__tol': 0.0001, 'tfidf__binary': True, 'tfidf__max_df': 0.5, 'tfidf__min_df': 2, 'tfidf__ngram_range': (1, 2)}\n",
            "Performance après lissage:\n",
            "F1 Score: 0.6349760139555167\n",
            "AUC: 0.7881858347440606\n",
            "Accuracy: 0.818276823037622\n"
          ]
        },
        {
          "data": {
            "text/html": [
              "<style>#sk-container-id-1 {color: black;}#sk-container-id-1 pre{padding: 0;}#sk-container-id-1 div.sk-toggleable {background-color: white;}#sk-container-id-1 label.sk-toggleable__label {cursor: pointer;display: block;width: 100%;margin-bottom: 0;padding: 0.3em;box-sizing: border-box;text-align: center;}#sk-container-id-1 label.sk-toggleable__label-arrow:before {content: \"▸\";float: left;margin-right: 0.25em;color: #696969;}#sk-container-id-1 label.sk-toggleable__label-arrow:hover:before {color: black;}#sk-container-id-1 div.sk-estimator:hover label.sk-toggleable__label-arrow:before {color: black;}#sk-container-id-1 div.sk-toggleable__content {max-height: 0;max-width: 0;overflow: hidden;text-align: left;background-color: #f0f8ff;}#sk-container-id-1 div.sk-toggleable__content pre {margin: 0.2em;color: black;border-radius: 0.25em;background-color: #f0f8ff;}#sk-container-id-1 input.sk-toggleable__control:checked~div.sk-toggleable__content {max-height: 200px;max-width: 100%;overflow: auto;}#sk-container-id-1 input.sk-toggleable__control:checked~label.sk-toggleable__label-arrow:before {content: \"▾\";}#sk-container-id-1 div.sk-estimator input.sk-toggleable__control:checked~label.sk-toggleable__label {background-color: #d4ebff;}#sk-container-id-1 div.sk-label input.sk-toggleable__control:checked~label.sk-toggleable__label {background-color: #d4ebff;}#sk-container-id-1 input.sk-hidden--visually {border: 0;clip: rect(1px 1px 1px 1px);clip: rect(1px, 1px, 1px, 1px);height: 1px;margin: -1px;overflow: hidden;padding: 0;position: absolute;width: 1px;}#sk-container-id-1 div.sk-estimator {font-family: monospace;background-color: #f0f8ff;border: 1px dotted black;border-radius: 0.25em;box-sizing: border-box;margin-bottom: 0.5em;}#sk-container-id-1 div.sk-estimator:hover {background-color: #d4ebff;}#sk-container-id-1 div.sk-parallel-item::after {content: \"\";width: 100%;border-bottom: 1px solid gray;flex-grow: 1;}#sk-container-id-1 div.sk-label:hover label.sk-toggleable__label {background-color: #d4ebff;}#sk-container-id-1 div.sk-serial::before {content: \"\";position: absolute;border-left: 1px solid gray;box-sizing: border-box;top: 0;bottom: 0;left: 50%;z-index: 0;}#sk-container-id-1 div.sk-serial {display: flex;flex-direction: column;align-items: center;background-color: white;padding-right: 0.2em;padding-left: 0.2em;position: relative;}#sk-container-id-1 div.sk-item {position: relative;z-index: 1;}#sk-container-id-1 div.sk-parallel {display: flex;align-items: stretch;justify-content: center;background-color: white;position: relative;}#sk-container-id-1 div.sk-item::before, #sk-container-id-1 div.sk-parallel-item::before {content: \"\";position: absolute;border-left: 1px solid gray;box-sizing: border-box;top: 0;bottom: 0;left: 50%;z-index: -1;}#sk-container-id-1 div.sk-parallel-item {display: flex;flex-direction: column;z-index: 1;position: relative;background-color: white;}#sk-container-id-1 div.sk-parallel-item:first-child::after {align-self: flex-end;width: 50%;}#sk-container-id-1 div.sk-parallel-item:last-child::after {align-self: flex-start;width: 50%;}#sk-container-id-1 div.sk-parallel-item:only-child::after {width: 0;}#sk-container-id-1 div.sk-dashed-wrapped {border: 1px dashed gray;margin: 0 0.4em 0.5em 0.4em;box-sizing: border-box;padding-bottom: 0.4em;background-color: white;}#sk-container-id-1 div.sk-label label {font-family: monospace;font-weight: bold;display: inline-block;line-height: 1.2em;}#sk-container-id-1 div.sk-label-container {text-align: center;}#sk-container-id-1 div.sk-container {/* jupyter's `normalize.less` sets `[hidden] { display: none; }` but bootstrap.min.css set `[hidden] { display: none !important; }` so we also need the `!important` here to be able to override the default hidden behavior on the sphinx rendered scikit-learn.org. See: https://github.com/scikit-learn/scikit-learn/issues/21755 */display: inline-block !important;position: relative;}#sk-container-id-1 div.sk-text-repr-fallback {display: none;}</style><div id=\"sk-container-id-1\" class=\"sk-top-container\"><div class=\"sk-text-repr-fallback\"><pre>TfidfVectorizer(preprocessor=&lt;function &lt;lambda&gt; at 0x7fa357fade50&gt;)</pre><b>In a Jupyter environment, please rerun this cell to show the HTML representation or trust the notebook. <br />On GitHub, the HTML representation is unable to render, please try loading this page with nbviewer.org.</b></div><div class=\"sk-container\" hidden><div class=\"sk-item\"><div class=\"sk-estimator sk-toggleable\"><input class=\"sk-toggleable__control sk-hidden--visually\" id=\"sk-estimator-id-1\" type=\"checkbox\" checked><label for=\"sk-estimator-id-1\" class=\"sk-toggleable__label sk-toggleable__label-arrow\">TfidfVectorizer</label><div class=\"sk-toggleable__content\"><pre>TfidfVectorizer(preprocessor=&lt;function &lt;lambda&gt; at 0x7fa357fade50&gt;)</pre></div></div></div></div></div>"
            ],
            "text/plain": [
              "TfidfVectorizer(preprocessor=<function <lambda> at 0x7fa357fade50>)"
            ]
          },
          "execution_count": 20,
          "metadata": {},
          "output_type": "execute_result"
        }
      ],
      "source": [
        "\n",
        "parameters = {\n",
        "    'tfidf__max_df': [1204],\n",
        "\n",
        "    'tfidf__min_df': [2],\n",
        "    'tfidf__ngram_range': [ (1, 2)],\n",
        "    'tfidf__binary': [True],\n",
        "    # 'tfidf__max_features': [90000],\n",
        "    'reg__max_iter': [1000],\n",
        "    'reg__tol': [1e-4],\n",
        "    'reg__penalty': [ 'l2' ],\n",
        "    'reg__C': [ 10]\n",
        "\n",
        "}\n",
        "\n",
        "scoring = {\n",
        "    'f1_score': make_scorer(f1_score,pos_label=-1),\n",
        "    'roc_auc': make_scorer(roc_auc_score),\n",
        "    'accuracy': make_scorer(accuracy_score)\n",
        "}\n",
        "preprocessors = lambda x: (((((cmn.suppression_balises_html((x)))))))\n",
        "\n",
        "grid_search_ov (parameters , scoring,preprocessors ,'f1_score')\n"
      ]
    },
    {
      "cell_type": "code",
      "execution_count": null,
      "metadata": {
        "id": "jfaEM_hYWGTF",
        "outputId": "f4af99c3-ee5a-47f9-e6df-641d51fd3b22"
      },
      "outputs": [
        {
          "name": "stdout",
          "output_type": "stream",
          "text": [
            "Fitting 5 folds for each of 1 candidates, totalling 5 fits\n"
          ]
        },
        {
          "name": "stdout",
          "output_type": "stream",
          "text": [
            "Meilleurs paramètres trouvés:\n",
            "{'reg__C': 10, 'reg__max_iter': 1000, 'reg__penalty': 'l2', 'reg__tol': 0.0001, 'tfidf__binary': True, 'tfidf__max_df': 0.45, 'tfidf__max_features': 90000, 'tfidf__min_df': 2, 'tfidf__ngram_range': (1, 2)}\n",
            "Performance après lissage:\n",
            "F1 Score: 0.6321041214750542\n",
            "AUC: 0.7876319253397123\n",
            "Accuracy: 0.8169414770088249\n"
          ]
        },
        {
          "data": {
            "text/html": [
              "<style>#sk-container-id-2 {color: black;}#sk-container-id-2 pre{padding: 0;}#sk-container-id-2 div.sk-toggleable {background-color: white;}#sk-container-id-2 label.sk-toggleable__label {cursor: pointer;display: block;width: 100%;margin-bottom: 0;padding: 0.3em;box-sizing: border-box;text-align: center;}#sk-container-id-2 label.sk-toggleable__label-arrow:before {content: \"▸\";float: left;margin-right: 0.25em;color: #696969;}#sk-container-id-2 label.sk-toggleable__label-arrow:hover:before {color: black;}#sk-container-id-2 div.sk-estimator:hover label.sk-toggleable__label-arrow:before {color: black;}#sk-container-id-2 div.sk-toggleable__content {max-height: 0;max-width: 0;overflow: hidden;text-align: left;background-color: #f0f8ff;}#sk-container-id-2 div.sk-toggleable__content pre {margin: 0.2em;color: black;border-radius: 0.25em;background-color: #f0f8ff;}#sk-container-id-2 input.sk-toggleable__control:checked~div.sk-toggleable__content {max-height: 200px;max-width: 100%;overflow: auto;}#sk-container-id-2 input.sk-toggleable__control:checked~label.sk-toggleable__label-arrow:before {content: \"▾\";}#sk-container-id-2 div.sk-estimator input.sk-toggleable__control:checked~label.sk-toggleable__label {background-color: #d4ebff;}#sk-container-id-2 div.sk-label input.sk-toggleable__control:checked~label.sk-toggleable__label {background-color: #d4ebff;}#sk-container-id-2 input.sk-hidden--visually {border: 0;clip: rect(1px 1px 1px 1px);clip: rect(1px, 1px, 1px, 1px);height: 1px;margin: -1px;overflow: hidden;padding: 0;position: absolute;width: 1px;}#sk-container-id-2 div.sk-estimator {font-family: monospace;background-color: #f0f8ff;border: 1px dotted black;border-radius: 0.25em;box-sizing: border-box;margin-bottom: 0.5em;}#sk-container-id-2 div.sk-estimator:hover {background-color: #d4ebff;}#sk-container-id-2 div.sk-parallel-item::after {content: \"\";width: 100%;border-bottom: 1px solid gray;flex-grow: 1;}#sk-container-id-2 div.sk-label:hover label.sk-toggleable__label {background-color: #d4ebff;}#sk-container-id-2 div.sk-serial::before {content: \"\";position: absolute;border-left: 1px solid gray;box-sizing: border-box;top: 0;bottom: 0;left: 50%;z-index: 0;}#sk-container-id-2 div.sk-serial {display: flex;flex-direction: column;align-items: center;background-color: white;padding-right: 0.2em;padding-left: 0.2em;position: relative;}#sk-container-id-2 div.sk-item {position: relative;z-index: 1;}#sk-container-id-2 div.sk-parallel {display: flex;align-items: stretch;justify-content: center;background-color: white;position: relative;}#sk-container-id-2 div.sk-item::before, #sk-container-id-2 div.sk-parallel-item::before {content: \"\";position: absolute;border-left: 1px solid gray;box-sizing: border-box;top: 0;bottom: 0;left: 50%;z-index: -1;}#sk-container-id-2 div.sk-parallel-item {display: flex;flex-direction: column;z-index: 1;position: relative;background-color: white;}#sk-container-id-2 div.sk-parallel-item:first-child::after {align-self: flex-end;width: 50%;}#sk-container-id-2 div.sk-parallel-item:last-child::after {align-self: flex-start;width: 50%;}#sk-container-id-2 div.sk-parallel-item:only-child::after {width: 0;}#sk-container-id-2 div.sk-dashed-wrapped {border: 1px dashed gray;margin: 0 0.4em 0.5em 0.4em;box-sizing: border-box;padding-bottom: 0.4em;background-color: white;}#sk-container-id-2 div.sk-label label {font-family: monospace;font-weight: bold;display: inline-block;line-height: 1.2em;}#sk-container-id-2 div.sk-label-container {text-align: center;}#sk-container-id-2 div.sk-container {/* jupyter's `normalize.less` sets `[hidden] { display: none; }` but bootstrap.min.css set `[hidden] { display: none !important; }` so we also need the `!important` here to be able to override the default hidden behavior on the sphinx rendered scikit-learn.org. See: https://github.com/scikit-learn/scikit-learn/issues/21755 */display: inline-block !important;position: relative;}#sk-container-id-2 div.sk-text-repr-fallback {display: none;}</style><div id=\"sk-container-id-2\" class=\"sk-top-container\"><div class=\"sk-text-repr-fallback\"><pre>TfidfVectorizer(preprocessor=&lt;function &lt;lambda&gt; at 0x7fa3694378b0&gt;)</pre><b>In a Jupyter environment, please rerun this cell to show the HTML representation or trust the notebook. <br />On GitHub, the HTML representation is unable to render, please try loading this page with nbviewer.org.</b></div><div class=\"sk-container\" hidden><div class=\"sk-item\"><div class=\"sk-estimator sk-toggleable\"><input class=\"sk-toggleable__control sk-hidden--visually\" id=\"sk-estimator-id-2\" type=\"checkbox\" checked><label for=\"sk-estimator-id-2\" class=\"sk-toggleable__label sk-toggleable__label-arrow\">TfidfVectorizer</label><div class=\"sk-toggleable__content\"><pre>TfidfVectorizer(preprocessor=&lt;function &lt;lambda&gt; at 0x7fa3694378b0&gt;)</pre></div></div></div></div></div>"
            ],
            "text/plain": [
              "TfidfVectorizer(preprocessor=<function <lambda> at 0x7fa3694378b0>)"
            ]
          },
          "execution_count": 21,
          "metadata": {},
          "output_type": "execute_result"
        }
      ],
      "source": [
        "\n",
        "parameters = {\n",
        "    'tfidf__max_df': [ 0.45],\n",
        "\n",
        "    'tfidf__min_df': [2],\n",
        "    'tfidf__ngram_range': [ (1, 2)],\n",
        "    'tfidf__binary': [True],\n",
        "    'tfidf__max_features': [90000],\n",
        "    'reg__max_iter': [1000],\n",
        "    'reg__tol': [1e-4],\n",
        "    'reg__penalty': [ 'l2' ],\n",
        "    'reg__C': [ 10]\n",
        "\n",
        "}\n",
        "\n",
        "scoring = {\n",
        "    'f1_score': make_scorer(f1_score,pos_label=-1),\n",
        "    'roc_auc': make_scorer(roc_auc_score),\n",
        "    'accuracy': make_scorer(accuracy_score)\n",
        "}\n",
        "preprocessors = lambda x: (cmn.suppression_chiffres(cmn.majuscules_en_marqueurs((cmn.suppression_ponctuation(cmn.suppression_balises_html((x)))))))\n",
        "\n",
        "grid_search_ov (parameters , scoring,preprocessors ,'f1_score')\n"
      ]
    },
    {
      "cell_type": "code",
      "execution_count": 38,
      "metadata": {
        "colab": {
          "base_uri": "https://localhost:8080/",
          "height": 196
        },
        "id": "krgtcgxFWGTF",
        "outputId": "31206e13-41f0-4019-8d03-42488523d582"
      },
      "outputs": [
        {
          "name": "stdout",
          "output_type": "stream",
          "text": [
            "Fitting 5 folds for each of 1 candidates, totalling 5 fits\n",
            "Meilleurs paramètres trouvés:\n",
            "{'reg__C': 10, 'reg__max_iter': 1000, 'reg__penalty': 'l2', 'reg__tol': 0.0001, 'tfidf__binary': True, 'tfidf__max_df': 0.5, 'tfidf__min_df': 2, 'tfidf__ngram_range': (1, 2)}\n",
            "Performance après lissage:\n",
            "F1 Score: 0.6335728282168517\n",
            "AUC: 0.7877008005194791\n",
            "Accuracy: 0.8178123548536925\n"
          ]
        },
        {
          "data": {
            "text/html": [
              "<style>#sk-container-id-24 {color: black;background-color: white;}#sk-container-id-24 pre{padding: 0;}#sk-container-id-24 div.sk-toggleable {background-color: white;}#sk-container-id-24 label.sk-toggleable__label {cursor: pointer;display: block;width: 100%;margin-bottom: 0;padding: 0.3em;box-sizing: border-box;text-align: center;}#sk-container-id-24 label.sk-toggleable__label-arrow:before {content: \"▸\";float: left;margin-right: 0.25em;color: #696969;}#sk-container-id-24 label.sk-toggleable__label-arrow:hover:before {color: black;}#sk-container-id-24 div.sk-estimator:hover label.sk-toggleable__label-arrow:before {color: black;}#sk-container-id-24 div.sk-toggleable__content {max-height: 0;max-width: 0;overflow: hidden;text-align: left;background-color: #f0f8ff;}#sk-container-id-24 div.sk-toggleable__content pre {margin: 0.2em;color: black;border-radius: 0.25em;background-color: #f0f8ff;}#sk-container-id-24 input.sk-toggleable__control:checked~div.sk-toggleable__content {max-height: 200px;max-width: 100%;overflow: auto;}#sk-container-id-24 input.sk-toggleable__control:checked~label.sk-toggleable__label-arrow:before {content: \"▾\";}#sk-container-id-24 div.sk-estimator input.sk-toggleable__control:checked~label.sk-toggleable__label {background-color: #d4ebff;}#sk-container-id-24 div.sk-label input.sk-toggleable__control:checked~label.sk-toggleable__label {background-color: #d4ebff;}#sk-container-id-24 input.sk-hidden--visually {border: 0;clip: rect(1px 1px 1px 1px);clip: rect(1px, 1px, 1px, 1px);height: 1px;margin: -1px;overflow: hidden;padding: 0;position: absolute;width: 1px;}#sk-container-id-24 div.sk-estimator {font-family: monospace;background-color: #f0f8ff;border: 1px dotted black;border-radius: 0.25em;box-sizing: border-box;margin-bottom: 0.5em;}#sk-container-id-24 div.sk-estimator:hover {background-color: #d4ebff;}#sk-container-id-24 div.sk-parallel-item::after {content: \"\";width: 100%;border-bottom: 1px solid gray;flex-grow: 1;}#sk-container-id-24 div.sk-label:hover label.sk-toggleable__label {background-color: #d4ebff;}#sk-container-id-24 div.sk-serial::before {content: \"\";position: absolute;border-left: 1px solid gray;box-sizing: border-box;top: 0;bottom: 0;left: 50%;z-index: 0;}#sk-container-id-24 div.sk-serial {display: flex;flex-direction: column;align-items: center;background-color: white;padding-right: 0.2em;padding-left: 0.2em;position: relative;}#sk-container-id-24 div.sk-item {position: relative;z-index: 1;}#sk-container-id-24 div.sk-parallel {display: flex;align-items: stretch;justify-content: center;background-color: white;position: relative;}#sk-container-id-24 div.sk-item::before, #sk-container-id-24 div.sk-parallel-item::before {content: \"\";position: absolute;border-left: 1px solid gray;box-sizing: border-box;top: 0;bottom: 0;left: 50%;z-index: -1;}#sk-container-id-24 div.sk-parallel-item {display: flex;flex-direction: column;z-index: 1;position: relative;background-color: white;}#sk-container-id-24 div.sk-parallel-item:first-child::after {align-self: flex-end;width: 50%;}#sk-container-id-24 div.sk-parallel-item:last-child::after {align-self: flex-start;width: 50%;}#sk-container-id-24 div.sk-parallel-item:only-child::after {width: 0;}#sk-container-id-24 div.sk-dashed-wrapped {border: 1px dashed gray;margin: 0 0.4em 0.5em 0.4em;box-sizing: border-box;padding-bottom: 0.4em;background-color: white;}#sk-container-id-24 div.sk-label label {font-family: monospace;font-weight: bold;display: inline-block;line-height: 1.2em;}#sk-container-id-24 div.sk-label-container {text-align: center;}#sk-container-id-24 div.sk-container {/* jupyter's `normalize.less` sets `[hidden] { display: none; }` but bootstrap.min.css set `[hidden] { display: none !important; }` so we also need the `!important` here to be able to override the default hidden behavior on the sphinx rendered scikit-learn.org. See: https://github.com/scikit-learn/scikit-learn/issues/21755 */display: inline-block !important;position: relative;}#sk-container-id-24 div.sk-text-repr-fallback {display: none;}</style><div id=\"sk-container-id-24\" class=\"sk-top-container\"><div class=\"sk-text-repr-fallback\"><pre>TfidfVectorizer(preprocessor=&lt;function &lt;lambda&gt; at 0x7d4796243520&gt;)</pre><b>In a Jupyter environment, please rerun this cell to show the HTML representation or trust the notebook. <br />On GitHub, the HTML representation is unable to render, please try loading this page with nbviewer.org.</b></div><div class=\"sk-container\" hidden><div class=\"sk-item\"><div class=\"sk-estimator sk-toggleable\"><input class=\"sk-toggleable__control sk-hidden--visually\" id=\"sk-estimator-id-24\" type=\"checkbox\" checked><label for=\"sk-estimator-id-24\" class=\"sk-toggleable__label sk-toggleable__label-arrow\">TfidfVectorizer</label><div class=\"sk-toggleable__content\"><pre>TfidfVectorizer(preprocessor=&lt;function &lt;lambda&gt; at 0x7d4796243520&gt;)</pre></div></div></div></div></div>"
            ],
            "text/plain": [
              "TfidfVectorizer(preprocessor=<function <lambda> at 0x7d4796243520>)"
            ]
          },
          "execution_count": 38,
          "metadata": {},
          "output_type": "execute_result"
        }
      ],
      "source": [
        "#The best pour le moment avec ficheir 9 28 2 2 = > j'ai fait mieux la best n'est plsu celle -ci\n",
        "\n",
        "parameters = {\n",
        "    'tfidf__max_df': [ 0.5],\n",
        "\n",
        "    'tfidf__min_df': [2],\n",
        "    'tfidf__ngram_range': [ (1, 2)],\n",
        "    'tfidf__binary': [True],\n",
        "    # 'tfidf__lowercase':[False],\n",
        "    # 'tfidf__max_features': [90000],\n",
        "    'reg__max_iter': [1000],\n",
        "    'reg__tol': [1e-4],\n",
        "    'reg__penalty': [ 'l2' ],\n",
        "    'reg__C': [ 10]\n",
        "\n",
        "}\n",
        "\n",
        "scoring = {\n",
        "    'f1_score': make_scorer(f1_score,pos_label=-1),\n",
        "    'roc_auc': make_scorer(roc_auc_score),\n",
        "    'accuracy': make_scorer(accuracy_score)\n",
        "}\n",
        "preprocessors = lambda x: ((((cmn.suppression_ponctuation(cmn.suppression_balises_html((x)))))))\n",
        "\n",
        "grid_search_ov (parameters , scoring,preprocessors ,'f1_score')\n"
      ]
    },
    {
      "cell_type": "code",
      "execution_count": 59,
      "metadata": {
        "colab": {
          "base_uri": "https://localhost:8080/",
          "height": 196
        },
        "id": "KawfgRU3iS7k",
        "outputId": "3ca982a2-09b6-4ec3-8fab-42d731db6dce"
      },
      "outputs": [
        {
          "name": "stdout",
          "output_type": "stream",
          "text": [
            "Fitting 5 folds for each of 1 candidates, totalling 5 fits\n",
            "Meilleurs paramètres trouvés:\n",
            "{'reg__C': 10, 'reg__max_iter': 1000, 'reg__penalty': 'l2', 'reg__tol': 0.0001, 'tfidf__binary': True, 'tfidf__max_df': 0.5, 'tfidf__ngram_range': (1, 2)}\n",
            "Performance après lissage:\n",
            "F1 Score: 0.6348077350522339\n",
            "AUC: 0.7840894263585909\n",
            "Accuracy: 0.8217022758941013\n"
          ]
        },
        {
          "data": {
            "text/html": [
              "<style>#sk-container-id-39 {color: black;background-color: white;}#sk-container-id-39 pre{padding: 0;}#sk-container-id-39 div.sk-toggleable {background-color: white;}#sk-container-id-39 label.sk-toggleable__label {cursor: pointer;display: block;width: 100%;margin-bottom: 0;padding: 0.3em;box-sizing: border-box;text-align: center;}#sk-container-id-39 label.sk-toggleable__label-arrow:before {content: \"▸\";float: left;margin-right: 0.25em;color: #696969;}#sk-container-id-39 label.sk-toggleable__label-arrow:hover:before {color: black;}#sk-container-id-39 div.sk-estimator:hover label.sk-toggleable__label-arrow:before {color: black;}#sk-container-id-39 div.sk-toggleable__content {max-height: 0;max-width: 0;overflow: hidden;text-align: left;background-color: #f0f8ff;}#sk-container-id-39 div.sk-toggleable__content pre {margin: 0.2em;color: black;border-radius: 0.25em;background-color: #f0f8ff;}#sk-container-id-39 input.sk-toggleable__control:checked~div.sk-toggleable__content {max-height: 200px;max-width: 100%;overflow: auto;}#sk-container-id-39 input.sk-toggleable__control:checked~label.sk-toggleable__label-arrow:before {content: \"▾\";}#sk-container-id-39 div.sk-estimator input.sk-toggleable__control:checked~label.sk-toggleable__label {background-color: #d4ebff;}#sk-container-id-39 div.sk-label input.sk-toggleable__control:checked~label.sk-toggleable__label {background-color: #d4ebff;}#sk-container-id-39 input.sk-hidden--visually {border: 0;clip: rect(1px 1px 1px 1px);clip: rect(1px, 1px, 1px, 1px);height: 1px;margin: -1px;overflow: hidden;padding: 0;position: absolute;width: 1px;}#sk-container-id-39 div.sk-estimator {font-family: monospace;background-color: #f0f8ff;border: 1px dotted black;border-radius: 0.25em;box-sizing: border-box;margin-bottom: 0.5em;}#sk-container-id-39 div.sk-estimator:hover {background-color: #d4ebff;}#sk-container-id-39 div.sk-parallel-item::after {content: \"\";width: 100%;border-bottom: 1px solid gray;flex-grow: 1;}#sk-container-id-39 div.sk-label:hover label.sk-toggleable__label {background-color: #d4ebff;}#sk-container-id-39 div.sk-serial::before {content: \"\";position: absolute;border-left: 1px solid gray;box-sizing: border-box;top: 0;bottom: 0;left: 50%;z-index: 0;}#sk-container-id-39 div.sk-serial {display: flex;flex-direction: column;align-items: center;background-color: white;padding-right: 0.2em;padding-left: 0.2em;position: relative;}#sk-container-id-39 div.sk-item {position: relative;z-index: 1;}#sk-container-id-39 div.sk-parallel {display: flex;align-items: stretch;justify-content: center;background-color: white;position: relative;}#sk-container-id-39 div.sk-item::before, #sk-container-id-39 div.sk-parallel-item::before {content: \"\";position: absolute;border-left: 1px solid gray;box-sizing: border-box;top: 0;bottom: 0;left: 50%;z-index: -1;}#sk-container-id-39 div.sk-parallel-item {display: flex;flex-direction: column;z-index: 1;position: relative;background-color: white;}#sk-container-id-39 div.sk-parallel-item:first-child::after {align-self: flex-end;width: 50%;}#sk-container-id-39 div.sk-parallel-item:last-child::after {align-self: flex-start;width: 50%;}#sk-container-id-39 div.sk-parallel-item:only-child::after {width: 0;}#sk-container-id-39 div.sk-dashed-wrapped {border: 1px dashed gray;margin: 0 0.4em 0.5em 0.4em;box-sizing: border-box;padding-bottom: 0.4em;background-color: white;}#sk-container-id-39 div.sk-label label {font-family: monospace;font-weight: bold;display: inline-block;line-height: 1.2em;}#sk-container-id-39 div.sk-label-container {text-align: center;}#sk-container-id-39 div.sk-container {/* jupyter's `normalize.less` sets `[hidden] { display: none; }` but bootstrap.min.css set `[hidden] { display: none !important; }` so we also need the `!important` here to be able to override the default hidden behavior on the sphinx rendered scikit-learn.org. See: https://github.com/scikit-learn/scikit-learn/issues/21755 */display: inline-block !important;position: relative;}#sk-container-id-39 div.sk-text-repr-fallback {display: none;}</style><div id=\"sk-container-id-39\" class=\"sk-top-container\"><div class=\"sk-text-repr-fallback\"><pre>TfidfVectorizer(preprocessor=&lt;function &lt;lambda&gt; at 0x7d4796242c20&gt;)</pre><b>In a Jupyter environment, please rerun this cell to show the HTML representation or trust the notebook. <br />On GitHub, the HTML representation is unable to render, please try loading this page with nbviewer.org.</b></div><div class=\"sk-container\" hidden><div class=\"sk-item\"><div class=\"sk-estimator sk-toggleable\"><input class=\"sk-toggleable__control sk-hidden--visually\" id=\"sk-estimator-id-39\" type=\"checkbox\" checked><label for=\"sk-estimator-id-39\" class=\"sk-toggleable__label sk-toggleable__label-arrow\">TfidfVectorizer</label><div class=\"sk-toggleable__content\"><pre>TfidfVectorizer(preprocessor=&lt;function &lt;lambda&gt; at 0x7d4796242c20&gt;)</pre></div></div></div></div></div>"
            ],
            "text/plain": [
              "TfidfVectorizer(preprocessor=<function <lambda> at 0x7d4796242c20>)"
            ]
          },
          "execution_count": 59,
          "metadata": {},
          "output_type": "execute_result"
        }
      ],
      "source": [
        "# THe best\n",
        "parameters = {\n",
        "    'tfidf__max_df': [ 0.5],\n",
        "\n",
        "    # 'tfidf__min_df': [2],\n",
        "    'tfidf__ngram_range': [ (1, 2)],\n",
        "    'tfidf__binary': [True],\n",
        "    # 'tfidf__lowercase':[False],\n",
        "    # 'tfidf__max_features': [90000],\n",
        "    'reg__max_iter': [1000],\n",
        "    'reg__tol': [1e-4],\n",
        "    'reg__penalty': [ 'l2' ],\n",
        "    'reg__C': [ 10],\n",
        "\n",
        "\n",
        "}\n",
        "\n",
        "scoring = {\n",
        "    'f1_score': make_scorer(f1_score,pos_label=-1),\n",
        "    'roc_auc': make_scorer(roc_auc_score),\n",
        "    'accuracy': make_scorer(accuracy_score)\n",
        "}\n",
        "preprocessors = lambda x: ((((cmn.suppression_ponctuation(cmn.suppression_balises_html((x)))))))\n",
        "\n",
        "grid_search_ov (parameters , scoring,preprocessors ,'f1_score')\n"
      ]
    },
    {
      "cell_type": "code",
      "execution_count": 69,
      "metadata": {
        "colab": {
          "base_uri": "https://localhost:8080/",
          "height": 196
        },
        "id": "DxEFpN0C2Jxy",
        "outputId": "ffb950cf-c581-4851-ffd0-80e57482a333"
      },
      "outputs": [
        {
          "name": "stdout",
          "output_type": "stream",
          "text": [
            "Fitting 5 folds for each of 1 candidates, totalling 5 fits\n",
            "Meilleurs paramètres trouvés:\n",
            "{'reg__C': 10, 'reg__max_iter': 1000, 'reg__penalty': 'l2', 'reg__tol': 0.0001, 'tfidf__binary': True, 'tfidf__max_df': 0.6, 'tfidf__max_features': 90000, 'tfidf__min_df': 2, 'tfidf__ngram_range': (2, 2)}\n",
            "Performance après lissage:\n",
            "F1 Score: 0.5703405017921148\n",
            "AUC: 0.7464451494323869\n",
            "Accuracy: 0.8147352531351603\n"
          ]
        },
        {
          "data": {
            "text/html": [
              "<style>#sk-container-id-49 {color: black;background-color: white;}#sk-container-id-49 pre{padding: 0;}#sk-container-id-49 div.sk-toggleable {background-color: white;}#sk-container-id-49 label.sk-toggleable__label {cursor: pointer;display: block;width: 100%;margin-bottom: 0;padding: 0.3em;box-sizing: border-box;text-align: center;}#sk-container-id-49 label.sk-toggleable__label-arrow:before {content: \"▸\";float: left;margin-right: 0.25em;color: #696969;}#sk-container-id-49 label.sk-toggleable__label-arrow:hover:before {color: black;}#sk-container-id-49 div.sk-estimator:hover label.sk-toggleable__label-arrow:before {color: black;}#sk-container-id-49 div.sk-toggleable__content {max-height: 0;max-width: 0;overflow: hidden;text-align: left;background-color: #f0f8ff;}#sk-container-id-49 div.sk-toggleable__content pre {margin: 0.2em;color: black;border-radius: 0.25em;background-color: #f0f8ff;}#sk-container-id-49 input.sk-toggleable__control:checked~div.sk-toggleable__content {max-height: 200px;max-width: 100%;overflow: auto;}#sk-container-id-49 input.sk-toggleable__control:checked~label.sk-toggleable__label-arrow:before {content: \"▾\";}#sk-container-id-49 div.sk-estimator input.sk-toggleable__control:checked~label.sk-toggleable__label {background-color: #d4ebff;}#sk-container-id-49 div.sk-label input.sk-toggleable__control:checked~label.sk-toggleable__label {background-color: #d4ebff;}#sk-container-id-49 input.sk-hidden--visually {border: 0;clip: rect(1px 1px 1px 1px);clip: rect(1px, 1px, 1px, 1px);height: 1px;margin: -1px;overflow: hidden;padding: 0;position: absolute;width: 1px;}#sk-container-id-49 div.sk-estimator {font-family: monospace;background-color: #f0f8ff;border: 1px dotted black;border-radius: 0.25em;box-sizing: border-box;margin-bottom: 0.5em;}#sk-container-id-49 div.sk-estimator:hover {background-color: #d4ebff;}#sk-container-id-49 div.sk-parallel-item::after {content: \"\";width: 100%;border-bottom: 1px solid gray;flex-grow: 1;}#sk-container-id-49 div.sk-label:hover label.sk-toggleable__label {background-color: #d4ebff;}#sk-container-id-49 div.sk-serial::before {content: \"\";position: absolute;border-left: 1px solid gray;box-sizing: border-box;top: 0;bottom: 0;left: 50%;z-index: 0;}#sk-container-id-49 div.sk-serial {display: flex;flex-direction: column;align-items: center;background-color: white;padding-right: 0.2em;padding-left: 0.2em;position: relative;}#sk-container-id-49 div.sk-item {position: relative;z-index: 1;}#sk-container-id-49 div.sk-parallel {display: flex;align-items: stretch;justify-content: center;background-color: white;position: relative;}#sk-container-id-49 div.sk-item::before, #sk-container-id-49 div.sk-parallel-item::before {content: \"\";position: absolute;border-left: 1px solid gray;box-sizing: border-box;top: 0;bottom: 0;left: 50%;z-index: -1;}#sk-container-id-49 div.sk-parallel-item {display: flex;flex-direction: column;z-index: 1;position: relative;background-color: white;}#sk-container-id-49 div.sk-parallel-item:first-child::after {align-self: flex-end;width: 50%;}#sk-container-id-49 div.sk-parallel-item:last-child::after {align-self: flex-start;width: 50%;}#sk-container-id-49 div.sk-parallel-item:only-child::after {width: 0;}#sk-container-id-49 div.sk-dashed-wrapped {border: 1px dashed gray;margin: 0 0.4em 0.5em 0.4em;box-sizing: border-box;padding-bottom: 0.4em;background-color: white;}#sk-container-id-49 div.sk-label label {font-family: monospace;font-weight: bold;display: inline-block;line-height: 1.2em;}#sk-container-id-49 div.sk-label-container {text-align: center;}#sk-container-id-49 div.sk-container {/* jupyter's `normalize.less` sets `[hidden] { display: none; }` but bootstrap.min.css set `[hidden] { display: none !important; }` so we also need the `!important` here to be able to override the default hidden behavior on the sphinx rendered scikit-learn.org. See: https://github.com/scikit-learn/scikit-learn/issues/21755 */display: inline-block !important;position: relative;}#sk-container-id-49 div.sk-text-repr-fallback {display: none;}</style><div id=\"sk-container-id-49\" class=\"sk-top-container\"><div class=\"sk-text-repr-fallback\"><pre>TfidfVectorizer(preprocessor=&lt;function &lt;lambda&gt; at 0x7d47961b35b0&gt;)</pre><b>In a Jupyter environment, please rerun this cell to show the HTML representation or trust the notebook. <br />On GitHub, the HTML representation is unable to render, please try loading this page with nbviewer.org.</b></div><div class=\"sk-container\" hidden><div class=\"sk-item\"><div class=\"sk-estimator sk-toggleable\"><input class=\"sk-toggleable__control sk-hidden--visually\" id=\"sk-estimator-id-49\" type=\"checkbox\" checked><label for=\"sk-estimator-id-49\" class=\"sk-toggleable__label sk-toggleable__label-arrow\">TfidfVectorizer</label><div class=\"sk-toggleable__content\"><pre>TfidfVectorizer(preprocessor=&lt;function &lt;lambda&gt; at 0x7d47961b35b0&gt;)</pre></div></div></div></div></div>"
            ],
            "text/plain": [
              "TfidfVectorizer(preprocessor=<function <lambda> at 0x7d47961b35b0>)"
            ]
          },
          "execution_count": 69,
          "metadata": {},
          "output_type": "execute_result"
        }
      ],
      "source": [
        "# THe best\n",
        "parameters = {\n",
        "    'tfidf__max_df': [ 0.6],\n",
        "\n",
        "    'tfidf__min_df': [2],\n",
        "    'tfidf__ngram_range': [ (2, 2)],\n",
        "    'tfidf__binary': [True],\n",
        "    # 'tfidf__lowercase':[False],\n",
        "    'tfidf__max_features': [90000],\n",
        "    'reg__max_iter': [1000],\n",
        "    'reg__tol': [1e-4],\n",
        "    'reg__penalty': [ 'l2' ],\n",
        "    'reg__C': [ 10],\n",
        "\n",
        "\n",
        "}\n",
        "\n",
        "scoring = {\n",
        "    'f1_score': make_scorer(f1_score,pos_label=-1),\n",
        "    'roc_auc': make_scorer(roc_auc_score),\n",
        "    'accuracy': make_scorer(accuracy_score)\n",
        "}\n",
        "preprocessors = lambda x: ((((cmn.suppression_ponctuation(cmn.suppression_balises_html((x)))))))\n",
        "\n",
        "grid_search_ov (parameters , scoring,preprocessors ,'f1_score')\n"
      ]
    },
    {
      "cell_type": "code",
      "execution_count": 6,
      "metadata": {
        "colab": {
          "base_uri": "https://localhost:8080/",
          "height": 251
        },
        "id": "rOwvCx7vObMp",
        "outputId": "c03fc634-46a7-4f37-f078-2d62c87942fd"
      },
      "outputs": [
        {
          "name": "stdout",
          "output_type": "stream",
          "text": [
            "Fitting 5 folds for each of 200 candidates, totalling 1000 fits\n"
          ]
        },
        {
          "name": "stderr",
          "output_type": "stream",
          "text": [
            "[nltk_data] Downloading package stopwords to /root/nltk_data...\n",
            "[nltk_data]   Package stopwords is already up-to-date!\n"
          ]
        },
        {
          "name": "stdout",
          "output_type": "stream",
          "text": [
            "Meilleurs paramètres trouvés:\n",
            "{'reg__C': 10, 'reg__max_iter': 10000, 'reg__penalty': 'l2', 'reg__tol': 0.0001, 'tfidf__binary': False, 'tfidf__max_df': 0.5, 'tfidf__max_features': None, 'tfidf__ngram_range': (1, 2), 'tfidf__stop_words': ['au', 'aux', 'avec', 'ce', 'ces', 'dans', 'de', 'des', 'du', 'elle', 'en', 'et', 'eux', 'il', 'ils', 'je', 'la', 'le', 'les', 'leur', 'lui', 'ma', 'mais', 'me', 'même', 'mes', 'moi', 'mon', 'ne', 'nos', 'notre', 'nous', 'on', 'ou', 'par', 'pas', 'pour', 'qu', 'que', 'qui', 'sa', 'se', 'ses', 'son', 'sur', 'ta', 'te', 'tes', 'toi', 'ton', 'tu', 'un', 'une', 'vos', 'votre', 'vous', 'c', 'd', 'j', 'l', 'à', 'm', 'n', 's', 't', 'y', 'été', 'étée', 'étées', 'étés', 'étant', 'étante', 'étants', 'étantes', 'suis', 'es', 'est', 'sommes', 'êtes', 'sont', 'serai', 'seras', 'sera', 'serons', 'serez', 'seront', 'serais', 'serait', 'serions', 'seriez', 'seraient', 'étais', 'était', 'étions', 'étiez', 'étaient', 'fus', 'fut', 'fûmes', 'fûtes', 'furent', 'sois', 'soit', 'soyons', 'soyez', 'soient', 'fusse', 'fusses', 'fût', 'fussions', 'fussiez', 'fussent', 'ayant', 'ayante', 'ayantes', 'ayants', 'eu', 'eue', 'eues', 'eus', 'ai', 'as', 'avons', 'avez', 'ont', 'aurai', 'auras', 'aura', 'aurons', 'aurez', 'auront', 'aurais', 'aurait', 'aurions', 'auriez', 'auraient', 'avais', 'avait', 'avions', 'aviez', 'avaient', 'eut', 'eûmes', 'eûtes', 'eurent', 'aie', 'aies', 'ait', 'ayons', 'ayez', 'aient', 'eusse', 'eusses', 'eût', 'eussions', 'eussiez', 'eussent'], 'tfidf__sublinear_tf': True, 'tfidf__use_idf': True}\n",
            "Performance après lissage:\n",
            "F1 Score: 0.6212802397773496\n",
            "AUC: 0.7840849480906222\n",
            "Accuracy: 0.8130515559684162\n"
          ]
        },
        {
          "data": {
            "text/html": [
              "<style>#sk-container-id-1 {color: black;background-color: white;}#sk-container-id-1 pre{padding: 0;}#sk-container-id-1 div.sk-toggleable {background-color: white;}#sk-container-id-1 label.sk-toggleable__label {cursor: pointer;display: block;width: 100%;margin-bottom: 0;padding: 0.3em;box-sizing: border-box;text-align: center;}#sk-container-id-1 label.sk-toggleable__label-arrow:before {content: \"▸\";float: left;margin-right: 0.25em;color: #696969;}#sk-container-id-1 label.sk-toggleable__label-arrow:hover:before {color: black;}#sk-container-id-1 div.sk-estimator:hover label.sk-toggleable__label-arrow:before {color: black;}#sk-container-id-1 div.sk-toggleable__content {max-height: 0;max-width: 0;overflow: hidden;text-align: left;background-color: #f0f8ff;}#sk-container-id-1 div.sk-toggleable__content pre {margin: 0.2em;color: black;border-radius: 0.25em;background-color: #f0f8ff;}#sk-container-id-1 input.sk-toggleable__control:checked~div.sk-toggleable__content {max-height: 200px;max-width: 100%;overflow: auto;}#sk-container-id-1 input.sk-toggleable__control:checked~label.sk-toggleable__label-arrow:before {content: \"▾\";}#sk-container-id-1 div.sk-estimator input.sk-toggleable__control:checked~label.sk-toggleable__label {background-color: #d4ebff;}#sk-container-id-1 div.sk-label input.sk-toggleable__control:checked~label.sk-toggleable__label {background-color: #d4ebff;}#sk-container-id-1 input.sk-hidden--visually {border: 0;clip: rect(1px 1px 1px 1px);clip: rect(1px, 1px, 1px, 1px);height: 1px;margin: -1px;overflow: hidden;padding: 0;position: absolute;width: 1px;}#sk-container-id-1 div.sk-estimator {font-family: monospace;background-color: #f0f8ff;border: 1px dotted black;border-radius: 0.25em;box-sizing: border-box;margin-bottom: 0.5em;}#sk-container-id-1 div.sk-estimator:hover {background-color: #d4ebff;}#sk-container-id-1 div.sk-parallel-item::after {content: \"\";width: 100%;border-bottom: 1px solid gray;flex-grow: 1;}#sk-container-id-1 div.sk-label:hover label.sk-toggleable__label {background-color: #d4ebff;}#sk-container-id-1 div.sk-serial::before {content: \"\";position: absolute;border-left: 1px solid gray;box-sizing: border-box;top: 0;bottom: 0;left: 50%;z-index: 0;}#sk-container-id-1 div.sk-serial {display: flex;flex-direction: column;align-items: center;background-color: white;padding-right: 0.2em;padding-left: 0.2em;position: relative;}#sk-container-id-1 div.sk-item {position: relative;z-index: 1;}#sk-container-id-1 div.sk-parallel {display: flex;align-items: stretch;justify-content: center;background-color: white;position: relative;}#sk-container-id-1 div.sk-item::before, #sk-container-id-1 div.sk-parallel-item::before {content: \"\";position: absolute;border-left: 1px solid gray;box-sizing: border-box;top: 0;bottom: 0;left: 50%;z-index: -1;}#sk-container-id-1 div.sk-parallel-item {display: flex;flex-direction: column;z-index: 1;position: relative;background-color: white;}#sk-container-id-1 div.sk-parallel-item:first-child::after {align-self: flex-end;width: 50%;}#sk-container-id-1 div.sk-parallel-item:last-child::after {align-self: flex-start;width: 50%;}#sk-container-id-1 div.sk-parallel-item:only-child::after {width: 0;}#sk-container-id-1 div.sk-dashed-wrapped {border: 1px dashed gray;margin: 0 0.4em 0.5em 0.4em;box-sizing: border-box;padding-bottom: 0.4em;background-color: white;}#sk-container-id-1 div.sk-label label {font-family: monospace;font-weight: bold;display: inline-block;line-height: 1.2em;}#sk-container-id-1 div.sk-label-container {text-align: center;}#sk-container-id-1 div.sk-container {/* jupyter's `normalize.less` sets `[hidden] { display: none; }` but bootstrap.min.css set `[hidden] { display: none !important; }` so we also need the `!important` here to be able to override the default hidden behavior on the sphinx rendered scikit-learn.org. See: https://github.com/scikit-learn/scikit-learn/issues/21755 */display: inline-block !important;position: relative;}#sk-container-id-1 div.sk-text-repr-fallback {display: none;}</style><div id=\"sk-container-id-1\" class=\"sk-top-container\"><div class=\"sk-text-repr-fallback\"><pre>TfidfVectorizer(preprocessor=&lt;function &lt;lambda&gt; at 0x7946c88ea200&gt;)</pre><b>In a Jupyter environment, please rerun this cell to show the HTML representation or trust the notebook. <br />On GitHub, the HTML representation is unable to render, please try loading this page with nbviewer.org.</b></div><div class=\"sk-container\" hidden><div class=\"sk-item\"><div class=\"sk-estimator sk-toggleable\"><input class=\"sk-toggleable__control sk-hidden--visually\" id=\"sk-estimator-id-1\" type=\"checkbox\" checked><label for=\"sk-estimator-id-1\" class=\"sk-toggleable__label sk-toggleable__label-arrow\">TfidfVectorizer</label><div class=\"sk-toggleable__content\"><pre>TfidfVectorizer(preprocessor=&lt;function &lt;lambda&gt; at 0x7946c88ea200&gt;)</pre></div></div></div></div></div>"
            ],
            "text/plain": [
              "TfidfVectorizer(preprocessor=<function <lambda> at 0x7946c88ea200>)"
            ]
          },
          "execution_count": 6,
          "metadata": {},
          "output_type": "execute_result"
        }
      ],
      "source": [
        "import nltk\n",
        "from nltk.corpus import stopwords\n",
        "nltk.download('stopwords')\n",
        "parameters = {\n",
        "    'tfidf__max_df': [ 0.5],\n",
        "\n",
        "    # 'tfidf__min_df': [2],\n",
        "    'tfidf__ngram_range': [ (1, 2),(1,1),(1,3),(2,2),(2,3)],\n",
        "    'tfidf__binary': [True,False],\n",
        "    'tfidf__sublinear_tf': [True,False],\n",
        "    'tfidf__use_idf': [False,True],\n",
        "    'tfidf__stop_words': [stopwords.words('french')],\n",
        "    'tfidf__max_features':[None, 5000, 20000, 50000,100000],\n",
        "    'reg__max_iter': [10000],\n",
        "    'reg__tol': [1e-4],\n",
        "    'reg__penalty': [ 'l2' ],\n",
        "    'reg__C': [ 10],\n",
        "\n",
        "\n",
        "}\n",
        "\n",
        "scoring = {\n",
        "    'f1_score': make_scorer(f1_score,pos_label=-1),\n",
        "    'roc_auc': make_scorer(roc_auc_score),\n",
        "    'accuracy': make_scorer(accuracy_score)\n",
        "}\n",
        "preprocessors = lambda x: ((((cmn.suppression_ponctuation(cmn.suppression_balises_html((x)))))))\n",
        "\n",
        "grid_search_ov (parameters , scoring,preprocessors ,'f1_score')\n"
      ]
    },
    {
      "cell_type": "code",
      "execution_count": 17,
      "metadata": {},
      "outputs": [],
      "source": [
        "def fonction_eval(vectorizer,alltexts,alllabs):\n",
        "\n",
        "    [X_all_train, X_all_test, y_train, y_test]  = train_test_split(alltexts,alllabs, test_size=0.2, random_state=10, shuffle=True)\n",
        "    X_train = vectorizer.fit_transform(X_all_train)\n",
        "    X_test = vectorizer.transform(X_all_test)\n",
        "\n",
        "\n",
        "    #Logistic Regression\n",
        "    t = 1e-8\n",
        "    C=10\n",
        "    lr_clf = LogisticRegression(random_state=0, solver='liblinear',max_iter=1000, tol=t, C=C,class_weight='balanced')\n",
        "    lr_clf.fit(X_train, y_train)\n",
        "    pred_lr = lr_clf.predict_proba(X_test)\n",
        "    probabilites_metterand = pred_lr[:,0]\n",
        "    smoothed_pred = gaussian_filter(probabilites_metterand,sigma=2)\n",
        "\n",
        "    smoothed_pred_labels = (2 * (smoothed_pred <= 0.5) - 1).astype(int)\n",
        "\n",
        "    f1 = f1_score(y_test, smoothed_pred_labels,  pos_label=-1)  \n",
        "\n",
        "    roc_auc = roc_auc_score(y_test, smoothed_pred_labels)\n",
        "    accuracy = accuracy_score(y_test, (smoothed_pred_labels > 0.5).astype(int))\n",
        "\n",
        "    print(\"Performance après lissage:\")\n",
        "    print(\"F1 Score:\", f1)\n",
        "    print(\"AUC:\", roc_auc)\n",
        "    print(\"Accuracy:\", accuracy)\n"
      ]
    },
    {
      "cell_type": "code",
      "execution_count": 21,
      "metadata": {},
      "outputs": [],
      "source": [
        "from sklearn.metrics import precision_recall_fscore_support,classification_report\n",
        "from scipy.ndimage import gaussian_filter\n",
        "\n",
        "def fonction_eval(vectorizer,state,alltexts,alllabs):\n",
        "\n",
        "    [X_all_train, X_all_test, y_train, y_test]  = train_test_split(alltexts, alllabs, test_size=0.2, random_state=state, shuffle=True)\n",
        "    X_train = vectorizer.fit_transform(X_all_train)\n",
        "    X_test = vectorizer.transform(X_all_test)\n",
        "    #Logistic Regression\n",
        "    t = 1e-8\n",
        "    C=10\n",
        "    lr_clf = LogisticRegression(random_state=0, solver='liblinear',max_iter=1000, tol=t, C=C,class_weight='balanced')\n",
        "    lr_clf.fit(X_train, y_train)\n",
        "    pred_lr = lr_clf.predict_proba(X_test)\n",
        "\n",
        "    smoothed_pred = gaussian_filter(pred_lr[:,0],sigma=0.3)\n",
        "\n",
        "    threshold = 0.5 \n",
        "    binary_predictions = np.where(smoothed_pred >= threshold, -1, 1)\n",
        "\n",
        "    # Calculate F1-score\n",
        "    f1 = f1_score(y_test, binary_predictions, average='weighted')\n",
        "\n",
        "    print(\"F1 Score:\", f1)\n",
        "    print(classification_report(y_test,binary_predictions ))"
      ]
    },
    {
      "cell_type": "code",
      "execution_count": 22,
      "metadata": {},
      "outputs": [
        {
          "name": "stdout",
          "output_type": "stream",
          "text": [
            "F1 Score: 0.8952444623126089\n",
            "              precision    recall  f1-score   support\n",
            "\n",
            "          -1       0.57      0.66      0.61      1481\n",
            "           1       0.95      0.93      0.94     10002\n",
            "\n",
            "    accuracy                           0.89     11483\n",
            "   macro avg       0.76      0.79      0.77     11483\n",
            "weighted avg       0.90      0.89      0.90     11483\n",
            "\n"
          ]
        }
      ],
      "source": [
        "from imblearn.over_sampling import RandomOverSampler\n",
        "\n",
        "tf_idf_vectorizer =TfidfVectorizer(min_df=5, ngram_range=(1, 3),binary=True)\n",
        "\n",
        "def preprocessors_fct (x):\n",
        "    x_1 = cmn.lowercase(cmn.majuscules_en_marqueurs(cmn.suppression_ponctuation((cmn.suppression_balises_html(x)))))\n",
        "    return x_1\n",
        "alltxts_cleand = [preprocessors_fct (x) for x in alltxts]\n",
        "fonction_eval(tf_idf_vectorizer,42,  alltxts_cleand,alllabs)"
      ]
    },
    {
      "cell_type": "code",
      "execution_count": 25,
      "metadata": {},
      "outputs": [
        {
          "name": "stdout",
          "output_type": "stream",
          "text": [
            "F1 Score: 0.8702808340858814\n",
            "              precision    recall  f1-score   support\n",
            "\n",
            "          -1       0.47      0.66      0.55      1481\n",
            "           1       0.95      0.89      0.92     10002\n",
            "\n",
            "    accuracy                           0.86     11483\n",
            "   macro avg       0.71      0.78      0.73     11483\n",
            "weighted avg       0.89      0.86      0.87     11483\n",
            "\n"
          ]
        }
      ],
      "source": [
        "tf_idf_vectorizer =TfidfVectorizer(min_df=5, ngram_range=(1, 2),binary=True)\n",
        "\n",
        "def preprocessors_fct (x):\n",
        "    x_1 = cmn.remove_stopwords(cmn.lowercase(cmn.majuscules_en_marqueurs(cmn.suppression_ponctuation((cmn.suppression_balises_html(x))))))\n",
        "    return x_1\n",
        "alltxts_cleand = [preprocessors_fct (x) for x in alltxts]\n",
        "fonction_eval(tf_idf_vectorizer,42,  alltxts_cleand,alllabs)"
      ]
    },
    {
      "cell_type": "code",
      "execution_count": 23,
      "metadata": {},
      "outputs": [
        {
          "name": "stdout",
          "output_type": "stream",
          "text": [
            "F1 Score: 0.871634726229245\n",
            "              precision    recall  f1-score   support\n",
            "\n",
            "          -1       0.48      0.66      0.55      1481\n",
            "           1       0.95      0.89      0.92     10002\n",
            "\n",
            "    accuracy                           0.86     11483\n",
            "   macro avg       0.71      0.78      0.74     11483\n",
            "weighted avg       0.89      0.86      0.87     11483\n",
            "\n"
          ]
        }
      ],
      "source": [
        "from imblearn.over_sampling import RandomOverSampler\n",
        "\n",
        "tf_idf_vectorizer =TfidfVectorizer(min_df=5, ngram_range=(1, 3),binary=True,max_df=0.9)\n",
        "\n",
        "def preprocessors_fct (x):\n",
        "    x_1 = (cmn.majuscules_en_marqueurs(cmn.suppression_ponctuation((cmn.suppression_balises_html(x)))))\n",
        "    x_2 =(cmn.lemmatization(cmn.remove_stopwords(cmn.suppression_chiffres(x_1))))\n",
        "\n",
        "    return x_2\n",
        "alltxts_cleand = [preprocessors_fct (x) for x in alltxts]\n",
        "fonction_eval(tf_idf_vectorizer,42,  alltxts_cleand,alllabs)"
      ]
    },
    {
      "cell_type": "code",
      "execution_count": 27,
      "metadata": {},
      "outputs": [
        {
          "name": "stdout",
          "output_type": "stream",
          "text": [
            "F1 Score: 0.895940670090053\n",
            "              precision    recall  f1-score   support\n",
            "\n",
            "          -1       0.57      0.66      0.61      1481\n",
            "           1       0.95      0.93      0.94     10002\n",
            "\n",
            "    accuracy                           0.89     11483\n",
            "   macro avg       0.76      0.79      0.78     11483\n",
            "weighted avg       0.90      0.89      0.90     11483\n",
            "\n"
          ]
        }
      ],
      "source": [
        "tf_idf_vectorizer =TfidfVectorizer(min_df=5, ngram_range=(1, 3),binary=True,max_df=0.5)\n",
        "\n",
        "def preprocessors_fct (x):\n",
        "    x_1 = (cmn.majuscules_en_marqueurs(cmn.suppression_ponctuation((cmn.suppression_balises_html(x)))))\n",
        "    x_2 =(cmn.lemmatization(cmn.suppression_chiffres(x_1)))\n",
        "\n",
        "    return x_2\n",
        "alltxts_cleand = [preprocessors_fct (x) for x in alltxts]\n",
        "fonction_eval(tf_idf_vectorizer,42,  alltxts_cleand,alllabs)"
      ]
    }
  ],
  "metadata": {
    "colab": {
      "provenance": []
    },
    "kernelspec": {
      "display_name": "Python 3 (ipykernel)",
      "language": "python",
      "name": "python3"
    },
    "language_info": {
      "codemirror_mode": {
        "name": "ipython",
        "version": 3
      },
      "file_extension": ".py",
      "mimetype": "text/x-python",
      "name": "python",
      "nbconvert_exporter": "python",
      "pygments_lexer": "ipython3",
      "version": "3.8.10"
    }
  },
  "nbformat": 4,
  "nbformat_minor": 0
}
