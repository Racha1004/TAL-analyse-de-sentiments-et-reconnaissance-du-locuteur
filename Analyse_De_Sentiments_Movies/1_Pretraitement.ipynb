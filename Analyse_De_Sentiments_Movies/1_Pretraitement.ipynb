{
 "cells": [
  {
   "cell_type": "markdown",
   "metadata": {},
   "source": [
    "# Partie 1 : Transformation paramétrique du texte (pre-traitements)\n",
    "\n",
    "Dans cette partie nous allons se familiarisé un peu avec des données avec l'extraction et la visualisation des données.\n",
    "\n",
    "Nous allons tester, par exemple, les cas suivants:\n",
    "- transformation en minuscule ou pas\n",
    "- suppression de la ponctuation\n",
    "- transformation des mots entièrement en majuscule en marqueurs spécifiques\n",
    "- suppression des chiffres ou pas\n",
    "- conservation d'une partie du texte seulement (seulement la première ligne = titre, seulement la dernière ligne = résumé, ...)\n",
    "- stemming\n",
    "- ...\n",
    "\n",
    "\n",
    "Vérifier systématiquement sur un exemple ou deux le bon fonctionnement des méthodes sur deux documents (au moins un de chaque classe)."
   ]
  },
  {
   "cell_type": "markdown",
   "metadata": {},
   "source": [
    "# Importation des bibliothéques"
   ]
  },
  {
   "cell_type": "code",
   "execution_count": 3,
   "metadata": {},
   "outputs": [
    {
     "name": "stderr",
     "output_type": "stream",
     "text": [
      "[nltk_data] Downloading package punkt to /home/anyes/nltk_data...\n",
      "[nltk_data]   Package punkt is already up-to-date!\n",
      "[nltk_data] Downloading package averaged_perceptron_tagger to\n",
      "[nltk_data]     /home/anyes/nltk_data...\n",
      "[nltk_data]   Package averaged_perceptron_tagger is already up-to-\n",
      "[nltk_data]       date!\n",
      "[nltk_data] Downloading package wordnet to /home/anyes/nltk_data...\n",
      "[nltk_data]   Package wordnet is already up-to-date!\n",
      "[nltk_data] Downloading package stopwords to /home/anyes/nltk_data...\n",
      "[nltk_data]   Package stopwords is already up-to-date!\n"
     ]
    }
   ],
   "source": [
    "import numpy as np\n",
    "import matplotlib.pyplot as plt\n",
    "import pandas as pd\n",
    "import seaborn as sns\n",
    "import spacy \n",
    "from wordcloud import WordCloud, STOPWORDS\n",
    "\n",
    "from sklearn.feature_extraction.text import CountVectorizer\n",
    "from sklearn.model_selection import train_test_split\n",
    "from sklearn.linear_model import LogisticRegression\n",
    "\n",
    "from collections import Counter\n",
    "\n",
    "from sklearn.model_selection import train_test_split\n",
    "from sklearn.feature_extraction.text import CountVectorizer,TfidfVectorizer\n",
    "from sklearn.naive_bayes import MultinomialNB\n",
    "from sklearn.linear_model import LogisticRegression\n",
    "from sklearn.svm import LinearSVC\n",
    "from sklearn.metrics import (accuracy_score,f1_score,precision_score,recall_score,roc_auc_score)\n",
    "from time import time\n",
    "import warnings\n",
    "warnings.filterwarnings(\"ignore\", category=FutureWarning)\n",
    "\n",
    "\n",
    "import utils as ut"
   ]
  },
  {
   "cell_type": "markdown",
   "metadata": {},
   "source": [
    "# Etape 0 : Chargement de données movies"
   ]
  },
  {
   "cell_type": "markdown",
   "metadata": {},
   "source": [
    "Dans cette partie nous allons rechargé les données de movies afin d'effectuer l'analyse de sentiments"
   ]
  },
  {
   "cell_type": "code",
   "execution_count": 5,
   "metadata": {},
   "outputs": [],
   "source": [
    "path = \"../datasets/movies/movies1000/\"\n",
    "alltxts,alllabs = ut.load_movies(path)"
   ]
  },
  {
   "cell_type": "markdown",
   "metadata": {},
   "source": [
    "Création du DataFrame"
   ]
  },
  {
   "cell_type": "code",
   "execution_count": 6,
   "metadata": {},
   "outputs": [
    {
     "data": {
      "text/html": [
       "<div>\n",
       "<style scoped>\n",
       "    .dataframe tbody tr th:only-of-type {\n",
       "        vertical-align: middle;\n",
       "    }\n",
       "\n",
       "    .dataframe tbody tr th {\n",
       "        vertical-align: top;\n",
       "    }\n",
       "\n",
       "    .dataframe thead th {\n",
       "        text-align: right;\n",
       "    }\n",
       "</style>\n",
       "<table border=\"1\" class=\"dataframe\">\n",
       "  <thead>\n",
       "    <tr style=\"text-align: right;\">\n",
       "      <th></th>\n",
       "      <th>text</th>\n",
       "      <th>label</th>\n",
       "    </tr>\n",
       "  </thead>\n",
       "  <tbody>\n",
       "    <tr>\n",
       "      <th>0</th>\n",
       "      <td>the kids in the hall are an acquired taste . \\...</td>\n",
       "      <td>0</td>\n",
       "    </tr>\n",
       "    <tr>\n",
       "      <th>1</th>\n",
       "      <td>capsule : a science fiction allegory . \\nat th...</td>\n",
       "      <td>0</td>\n",
       "    </tr>\n",
       "    <tr>\n",
       "      <th>2</th>\n",
       "      <td>there is a rule when it comes to movies . \\na ...</td>\n",
       "      <td>0</td>\n",
       "    </tr>\n",
       "    <tr>\n",
       "      <th>3</th>\n",
       "      <td>it's amazing how a comedian can have the some ...</td>\n",
       "      <td>0</td>\n",
       "    </tr>\n",
       "    <tr>\n",
       "      <th>4</th>\n",
       "      <td>absolute power , the new film produced and dir...</td>\n",
       "      <td>0</td>\n",
       "    </tr>\n",
       "    <tr>\n",
       "      <th>...</th>\n",
       "      <td>...</td>\n",
       "      <td>...</td>\n",
       "    </tr>\n",
       "    <tr>\n",
       "      <th>1995</th>\n",
       "      <td>as i walked out of crouching tiger , hidden dr...</td>\n",
       "      <td>1</td>\n",
       "    </tr>\n",
       "    <tr>\n",
       "      <th>1996</th>\n",
       "      <td>when andy leaves for cowboy camp , his mother ...</td>\n",
       "      <td>1</td>\n",
       "    </tr>\n",
       "    <tr>\n",
       "      <th>1997</th>\n",
       "      <td>plot : a bunch of bad guys dressed up as elvis...</td>\n",
       "      <td>1</td>\n",
       "    </tr>\n",
       "    <tr>\n",
       "      <th>1998</th>\n",
       "      <td>trees lounge is the directoral debut from one ...</td>\n",
       "      <td>1</td>\n",
       "    </tr>\n",
       "    <tr>\n",
       "      <th>1999</th>\n",
       "      <td>ingredients : neophyte lawyer , legal situatio...</td>\n",
       "      <td>1</td>\n",
       "    </tr>\n",
       "  </tbody>\n",
       "</table>\n",
       "<p>2000 rows × 2 columns</p>\n",
       "</div>"
      ],
      "text/plain": [
       "                                                   text  label\n",
       "0     the kids in the hall are an acquired taste . \\...      0\n",
       "1     capsule : a science fiction allegory . \\nat th...      0\n",
       "2     there is a rule when it comes to movies . \\na ...      0\n",
       "3     it's amazing how a comedian can have the some ...      0\n",
       "4     absolute power , the new film produced and dir...      0\n",
       "...                                                 ...    ...\n",
       "1995  as i walked out of crouching tiger , hidden dr...      1\n",
       "1996  when andy leaves for cowboy camp , his mother ...      1\n",
       "1997  plot : a bunch of bad guys dressed up as elvis...      1\n",
       "1998  trees lounge is the directoral debut from one ...      1\n",
       "1999  ingredients : neophyte lawyer , legal situatio...      1\n",
       "\n",
       "[2000 rows x 2 columns]"
      ]
     },
     "execution_count": 6,
     "metadata": {},
     "output_type": "execute_result"
    }
   ],
   "source": [
    "movies_df = pd.DataFrame()\n",
    "movies_df['text'] = alltxts\n",
    "movies_df['label'] = alllabs\n",
    "\n",
    "movies_df"
   ]
  },
  {
   "cell_type": "markdown",
   "metadata": {},
   "source": [
    "# Etape 1 : Visualisation des données"
   ]
  },
  {
   "cell_type": "markdown",
   "metadata": {},
   "source": [
    "Dans cette partie, nous allons faire quelques visualisations de données"
   ]
  },
  {
   "cell_type": "markdown",
   "metadata": {},
   "source": [
    "## 1.1 Distribution des classes"
   ]
  },
  {
   "cell_type": "markdown",
   "metadata": {},
   "source": [
    "D'aprés le graphe ci-dessous, on peut remarqué qu'il y a autant de review négatif que de review positif"
   ]
  },
  {
   "cell_type": "code",
   "execution_count": 7,
   "metadata": {},
   "outputs": [
    {
     "data": {
      "image/png": "[encoded data removed]",
      "text/plain": [
       "<Figure size 600x400 with 1 Axes>"
      ]
     },
     "metadata": {},
     "output_type": "display_data"
    }
   ],
   "source": [
    "\n",
    "plt.figure(figsize=(6, 4))  # Définir la taille de la figure\n",
    "plt.hist(movies_df['label'], bins=5, color='skyblue', edgecolor='black')  # Définir le nombre de bacs et les couleurs\n",
    "plt.title('Distribution des classes dans le DataFrame')  # Ajouter un titre au graphique\n",
    "plt.xlabel('Classe')  # Ajouter une étiquette pour l'axe x\n",
    "plt.ylabel('Nombre de textes')  # Ajouter une étiquette pour l'axe y\n",
    "plt.xticks([0, 1], labels=['Classe Neg', 'Classe Pos'])  # Définir les étiquettes de l'axe x\n",
    "plt.legend(labels=['Avis'])  # Ajouter une légende\n",
    "plt.show()\n"
   ]
  },
  {
   "cell_type": "markdown",
   "metadata": {},
   "source": [
    "## 1.2 Longueur des textes"
   ]
  },
  {
   "cell_type": "markdown",
   "metadata": {},
   "source": [
    "### 1.2.1 Sur tout le dataframe"
   ]
  },
  {
   "cell_type": "markdown",
   "metadata": {},
   "source": [
    "Création d'une nouvelle colonne qui associe pour chaque text sa longueur, cela va nous permettre d'analyser les longueurs des texts"
   ]
  },
  {
   "cell_type": "code",
   "execution_count": 8,
   "metadata": {},
   "outputs": [
    {
     "data": {
      "text/html": [
       "<div>\n",
       "<style scoped>\n",
       "    .dataframe tbody tr th:only-of-type {\n",
       "        vertical-align: middle;\n",
       "    }\n",
       "\n",
       "    .dataframe tbody tr th {\n",
       "        vertical-align: top;\n",
       "    }\n",
       "\n",
       "    .dataframe thead th {\n",
       "        text-align: right;\n",
       "    }\n",
       "</style>\n",
       "<table border=\"1\" class=\"dataframe\">\n",
       "  <thead>\n",
       "    <tr style=\"text-align: right;\">\n",
       "      <th></th>\n",
       "      <th>text</th>\n",
       "      <th>label</th>\n",
       "      <th>text_length</th>\n",
       "    </tr>\n",
       "  </thead>\n",
       "  <tbody>\n",
       "    <tr>\n",
       "      <th>0</th>\n",
       "      <td>the kids in the hall are an acquired taste . \\...</td>\n",
       "      <td>0</td>\n",
       "      <td>2342</td>\n",
       "    </tr>\n",
       "    <tr>\n",
       "      <th>1</th>\n",
       "      <td>capsule : a science fiction allegory . \\nat th...</td>\n",
       "      <td>0</td>\n",
       "      <td>1621</td>\n",
       "    </tr>\n",
       "    <tr>\n",
       "      <th>2</th>\n",
       "      <td>there is a rule when it comes to movies . \\na ...</td>\n",
       "      <td>0</td>\n",
       "      <td>2525</td>\n",
       "    </tr>\n",
       "    <tr>\n",
       "      <th>3</th>\n",
       "      <td>it's amazing how a comedian can have the some ...</td>\n",
       "      <td>0</td>\n",
       "      <td>2572</td>\n",
       "    </tr>\n",
       "    <tr>\n",
       "      <th>4</th>\n",
       "      <td>absolute power , the new film produced and dir...</td>\n",
       "      <td>0</td>\n",
       "      <td>4591</td>\n",
       "    </tr>\n",
       "    <tr>\n",
       "      <th>...</th>\n",
       "      <td>...</td>\n",
       "      <td>...</td>\n",
       "      <td>...</td>\n",
       "    </tr>\n",
       "    <tr>\n",
       "      <th>1995</th>\n",
       "      <td>as i walked out of crouching tiger , hidden dr...</td>\n",
       "      <td>1</td>\n",
       "      <td>3607</td>\n",
       "    </tr>\n",
       "    <tr>\n",
       "      <th>1996</th>\n",
       "      <td>when andy leaves for cowboy camp , his mother ...</td>\n",
       "      <td>1</td>\n",
       "      <td>5259</td>\n",
       "    </tr>\n",
       "    <tr>\n",
       "      <th>1997</th>\n",
       "      <td>plot : a bunch of bad guys dressed up as elvis...</td>\n",
       "      <td>1</td>\n",
       "      <td>5269</td>\n",
       "    </tr>\n",
       "    <tr>\n",
       "      <th>1998</th>\n",
       "      <td>trees lounge is the directoral debut from one ...</td>\n",
       "      <td>1</td>\n",
       "      <td>1088</td>\n",
       "    </tr>\n",
       "    <tr>\n",
       "      <th>1999</th>\n",
       "      <td>ingredients : neophyte lawyer , legal situatio...</td>\n",
       "      <td>1</td>\n",
       "      <td>2151</td>\n",
       "    </tr>\n",
       "  </tbody>\n",
       "</table>\n",
       "<p>2000 rows × 3 columns</p>\n",
       "</div>"
      ],
      "text/plain": [
       "                                                   text  label  text_length\n",
       "0     the kids in the hall are an acquired taste . \\...      0         2342\n",
       "1     capsule : a science fiction allegory . \\nat th...      0         1621\n",
       "2     there is a rule when it comes to movies . \\na ...      0         2525\n",
       "3     it's amazing how a comedian can have the some ...      0         2572\n",
       "4     absolute power , the new film produced and dir...      0         4591\n",
       "...                                                 ...    ...          ...\n",
       "1995  as i walked out of crouching tiger , hidden dr...      1         3607\n",
       "1996  when andy leaves for cowboy camp , his mother ...      1         5259\n",
       "1997  plot : a bunch of bad guys dressed up as elvis...      1         5269\n",
       "1998  trees lounge is the directoral debut from one ...      1         1088\n",
       "1999  ingredients : neophyte lawyer , legal situatio...      1         2151\n",
       "\n",
       "[2000 rows x 3 columns]"
      ]
     },
     "execution_count": 8,
     "metadata": {},
     "output_type": "execute_result"
    }
   ],
   "source": [
    "movies_df['text_length'] = movies_df['text'].apply(len)\n",
    "movies_df"
   ]
  },
  {
   "cell_type": "code",
   "execution_count": 9,
   "metadata": {},
   "outputs": [
    {
     "data": {
      "image/png": "[encoded data removed]",
      "text/plain": [
       "<Figure size 800x500 with 1 Axes>"
      ]
     },
     "metadata": {},
     "output_type": "display_data"
    }
   ],
   "source": [
    "plt.figure(figsize=(8, 5))  # Définir la taille de la figure\n",
    "plt.hist(movies_df['text_length'], bins=50, color='skyblue', edgecolor='black')  \n",
    "plt.title('Distribution de la longueur des textes dans le DataFrame')  # Ajouter un titre au graphique\n",
    "plt.xlabel('Longueur du texte')  # Ajouter une étiquette pour l'axe x\n",
    "plt.ylabel('Nombre de textes')  # Ajouter une étiquette pour l'axe y\n",
    "plt.show()"
   ]
  },
  {
   "cell_type": "markdown",
   "metadata": {},
   "source": [
    "### 1.2.2 Par classe"
   ]
  },
  {
   "cell_type": "markdown",
   "metadata": {},
   "source": [
    "D'aprés les graphes de distribution de la longueur des texts, on peut dire qu'à première vu les 2 classes ont la même distribution."
   ]
  },
  {
   "cell_type": "code",
   "execution_count": 10,
   "metadata": {},
   "outputs": [
    {
     "data": {
      "image/png": "[encoded data removed]",
      "text/plain": [
       "<Figure size 1000x400 with 2 Axes>"
      ]
     },
     "metadata": {},
     "output_type": "display_data"
    }
   ],
   "source": [
    "# Création des sous-graphiques\n",
    "fig, (ax1, ax2) = plt.subplots(1, 2, figsize=(10, 4))\n",
    "\n",
    "# Affichage de l'histogramme de la longueur des textes\n",
    "ax1.hist(movies_df[movies_df['label'] == 0]['text_length'], bins=50, color='skyblue', edgecolor='black')\n",
    "ax1.set_title('Distribution de la longueur des textes dans la classe Neg')\n",
    "ax1.set_xlabel('Longueur du texte')\n",
    "ax1.set_ylabel('Nombre de textes')\n",
    "\n",
    "# Affichage de l'histogramme de la distribution des classes\n",
    "ax2.hist(movies_df[movies_df['label'] == 1]['text_length'], bins=50, color='skyblue', edgecolor='black')\n",
    "ax2.set_title('Distribution de la longueur des textes dans la classe Pos')\n",
    "ax2.set_xlabel('Longueur du texte')\n",
    "ax2.set_ylabel('Nombre de textes')\n",
    "\n",
    "# Afficher les sous-graphiques\n",
    "plt.tight_layout()\n",
    "plt.show()\n"
   ]
  },
  {
   "cell_type": "markdown",
   "metadata": {},
   "source": [
    "# Etape 2 : Transformation paramétrique du texte (pré-traitements)"
   ]
  },
  {
   "cell_type": "markdown",
   "metadata": {},
   "source": [
    "\n",
    "On teste les cas suivants:\n",
    "- suppression de la ponctuation\n",
    "- transformation en minuscule ou pas\n",
    "- transformation des mots entièrement en majuscule en marqueurs spécifiques\n",
    "- suppression des chiffres ou pas\n",
    "- conservation d'une partie du texte seulement (seulement la première ligne = titre, seulement la dernière ligne = résumé, ...)\n",
    "- stemming\n",
    "- lemmatization "
   ]
  },
  {
   "cell_type": "markdown",
   "metadata": {},
   "source": [
    "### 2.1 Suppression de la ponctuation"
   ]
  },
  {
   "cell_type": "markdown",
   "metadata": {},
   "source": [
    "Commençons par la suppression de la ponctuation"
   ]
  },
  {
   "cell_type": "code",
   "execution_count": 11,
   "metadata": {},
   "outputs": [
    {
     "name": "stdout",
     "output_type": "stream",
     "text": [
      "Avant : \n",
      " the kids in the hall are an acquired taste . \n",
      "it took at least a season of watching their show on hbo before i became a believer . \n",
      "maybe after watching a half dozen kids in the hall movies , they would grow into the big screen . \n",
      "my recommendation is that , unless you are a big fan of the kids , skip the film . \n",
      "as it is , their first--and most likely only--attempt at a full length film lacks the qualities that made their comedy work on tv . \n",
      "a big-budget and glossy production can not make up for a lack of spontaneity that permeates their tv show . \n",
      "the kids go through the motions , but you get the feeling that they arent really having fun doing so . \n",
      "and this makes it more difficult for the audience to enjoy their antics . \n",
      "brain candy is a bunch of skits tied together by the story of a pharmaceutical company that develops a new drug to cure depression . \n",
      "in typical sketch-comedy tradition , each actor plays several roles . \n",
      "doctor cooper ( kevin mcdonald ) and his team create the drug . \n",
      "then , under pressure from don roritor ( mark mckinney ) , founder and president of roritor pharmaceuticals , dr . cooper releases the drug into the marketplace . \n",
      "the ensuing distribution of the new happy pill throughout the populace drives the rest of the film . \n",
      "at about 90 minutes , brain candy still seems long . \n",
      "the best thing about sketch comedy--and the kids are no exception--is the ability to quickly deliver the laughs , then go on to another quick skit . \n",
      "but with the additional set-up necessary in telling a longer , coherent story , the laughs just dont come fast enough . \n",
      "strangely , the show is even more tame than it was when on cable tv . \n",
      "the movie makes several attempts at risqueness--mostly by pointing up the gayness of one of scott thompsons characters--but they seem almost forced ; as if they have to live up to a pg rating . \n",
      "one of the best bits , though , does make use of thompsons naked buttocks ; we see him charging into battle--going to have sex with some guys taking a shower . \n",
      "in the classic of this genre , monty python pulled off this delicate balancing act between plot advancement and punchline delivery for most of the holy grail . \n",
      "the kids , unfortunately , are not up to the task . \n",
      "there are some amusing moments , to be sure , but not enough to make the experience an enjoyable one . \n",
      "\n",
      "-------------------------------------------------------------------------------------------------------------------------------------------------------\n",
      "Apres :\n",
      " the kids in the hall are an acquired taste it took at least a season of watching their show on hbo before i became a believer maybe after watching a half dozen kids in the hall movies they would grow into the big screen my recommendation is that unless you are a big fan of the kids skip the film as it is their first and most likely only attempt at a full length film lacks the qualities that made their comedy work on tv a big budget and glossy production can not make up for a lack of spontaneity that permeates their tv show the kids go through the motions but you get the feeling that they arent really having fun doing so and this makes it more difficult for the audience to enjoy their antics brain candy is a bunch of skits tied together by the story of a pharmaceutical company that develops a new drug to cure depression in typical sketch comedy tradition each actor plays several roles doctor cooper kevin mcdonald and his team create the drug then under pressure from don roritor mark mckinney founder and president of roritor pharmaceuticals dr cooper releases the drug into the marketplace the ensuing distribution of the new happy pill throughout the populace drives the rest of the film at about 90 minutes brain candy still seems long the best thing about sketch comedy and the kids are no exception is the ability to quickly deliver the laughs then go on to another quick skit but with the additional set up necessary in telling a longer coherent story the laughs just dont come fast enough strangely the show is even more tame than it was when on cable tv the movie makes several attempts at risqueness mostly by pointing up the gayness of one of scott thompsons characters but they seem almost forced as if they have to live up to a pg rating one of the best bits though does make use of thompsons naked buttocks we see him charging into battle going to have sex with some guys taking a shower in the classic of this genre monty python pulled off this delicate balancing act between plot advancement and punchline delivery for most of the holy grail the kids unfortunately are not up to the task there are some amusing moments to be sure but not enough to make the experience an enjoyable one \n"
     ]
    }
   ],
   "source": [
    "text = movies_df.text[0]\n",
    "print(\"Avant : \\n\" ,text)\n",
    "text =  ut.remove_ponctuation(movies_df.text[0])\n",
    "print(\"-------------------------------------------------------------------------------------------------------------------------------------------------------\")\n",
    "print(\"Apres :\\n\" ,text)"
   ]
  },
  {
   "cell_type": "markdown",
   "metadata": {},
   "source": [
    "### 2.2 Suppression des nombres"
   ]
  },
  {
   "cell_type": "code",
   "execution_count": 12,
   "metadata": {},
   "outputs": [
    {
     "name": "stdout",
     "output_type": "stream",
     "text": [
      "Avant :\n",
      " carry on matron is the last great carry-on film in my opinion . \n",
      "made in 1972 , it still features most of the regulars of this genre . \n",
      "sid james plays the head of a gang of crooks intent on stealing contraceptive pills from the local maternity hospital and selling them off to make a profit , kenneth williams is sir bernard cutting , head of the hospital but also a hypochondriac , hattie jacques re-takes her role as matron , and charles hawtrey is the psychiatrist dr . goode . \n",
      "the jokes come in fast and so do the laughs , with humorous antics between the matron and sir bernard . \n",
      "this time , williams is after matron ( jacques ) when he needs to prove himself that he is a man after visiting dr . goode . \n",
      "the doctor ( hawtrey ) is sworn to secrecy : - \" i assure you , that anything you say to me today will go in one ear and straight out of the other ! \" \n",
      "bernard thinks he is having a sex change and needs to prove himself . \n",
      "there are great cameos from joan sims , an expectant mother who is many weeks overdue and is eating constantly in every scene , and from kenneth connor as the expectant father who still thinks he's at work ( at the railway station ) . \n",
      "sid james' gang including cyril his son ( kenneth cope ) try to find out where the pills are by getting cyril to dress up as a nurse and live in at the nurses home . \n",
      "he has to share a room with nurse ball ( barbara windsor ) and she soon sees through him ! \n",
      "the film ends with the attempted robbery of the hospital's pills with panic ensuing . \n",
      "there are good performances by hattie jacques as the matron , however her character seems a little more subdued and quieter than her previous 'matron's' . \n",
      "williams is , as usual , on top form , but sid james isn't given a very good part in this movie and i would forgive anyone to forget that he was in the movie at all . \n",
      "the same does not go for charles hawtrey , for although he only first appears in the movie after 30 minutes gone and has scarce screen time , he seems to steal every scene he is in . \n",
      "by not making use of sid james and barbara windsor's talent to full effect , the film seems to flounder , but it certainly makes up for it with it's good storyline and it's other appealing characters . \n",
      "this film is genuinely funny and i could watch it again and again and not get bored ! \n",
      "\n",
      "-------------------------------------------------------------------------------------------------------------------------------------------------------\n",
      "Apres :\n",
      " carry on matron is the last great carry-on film in my opinion . \n",
      "made in  , it still features most of the regulars of this genre . \n",
      "sid james plays the head of a gang of crooks intent on stealing contraceptive pills from the local maternity hospital and selling them off to make a profit , kenneth williams is sir bernard cutting , head of the hospital but also a hypochondriac , hattie jacques re-takes her role as matron , and charles hawtrey is the psychiatrist dr . goode . \n",
      "the jokes come in fast and so do the laughs , with humorous antics between the matron and sir bernard . \n",
      "this time , williams is after matron ( jacques ) when he needs to prove himself that he is a man after visiting dr . goode . \n",
      "the doctor ( hawtrey ) is sworn to secrecy : - \" i assure you , that anything you say to me today will go in one ear and straight out of the other ! \" \n",
      "bernard thinks he is having a sex change and needs to prove himself . \n",
      "there are great cameos from joan sims , an expectant mother who is many weeks overdue and is eating constantly in every scene , and from kenneth connor as the expectant father who still thinks he's at work ( at the railway station ) . \n",
      "sid james' gang including cyril his son ( kenneth cope ) try to find out where the pills are by getting cyril to dress up as a nurse and live in at the nurses home . \n",
      "he has to share a room with nurse ball ( barbara windsor ) and she soon sees through him ! \n",
      "the film ends with the attempted robbery of the hospital's pills with panic ensuing . \n",
      "there are good performances by hattie jacques as the matron , however her character seems a little more subdued and quieter than her previous 'matron's' . \n",
      "williams is , as usual , on top form , but sid james isn't given a very good part in this movie and i would forgive anyone to forget that he was in the movie at all . \n",
      "the same does not go for charles hawtrey , for although he only first appears in the movie after  minutes gone and has scarce screen time , he seems to steal every scene he is in . \n",
      "by not making use of sid james and barbara windsor's talent to full effect , the film seems to flounder , but it certainly makes up for it with it's good storyline and it's other appealing characters . \n",
      "this film is genuinely funny and i could watch it again and again and not get bored ! \n",
      "\n"
     ]
    }
   ],
   "source": [
    "text = movies_df.text[1001]\n",
    "print(\"Avant :\\n\" ,text)\n",
    "text =  ut.remove_numbers(text)\n",
    "print(\"-------------------------------------------------------------------------------------------------------------------------------------------------------\")\n",
    "print(\"Apres :\\n\" ,text)"
   ]
  },
  {
   "cell_type": "markdown",
   "metadata": {},
   "source": [
    "### 2.3 Suppression des noms de personne"
   ]
  },
  {
   "cell_type": "markdown",
   "metadata": {},
   "source": [
    "A voir si on le fait ou pas, car la fonction qui supprime les noms supprime tous les noms qui commence par la majuscule en vrai"
   ]
  },
  {
   "cell_type": "code",
   "execution_count": 13,
   "metadata": {},
   "outputs": [
    {
     "name": "stdout",
     "output_type": "stream",
     "text": [
      "Avant :\n",
      " carry on matron is the last great carry-on film in my opinion . \n",
      "made in 1972 , it still features most of the regulars of this genre . \n",
      "sid james plays the head of a gang of crooks intent on stealing contraceptive pills from the local maternity hospital and selling them off to make a profit , kenneth williams is sir bernard cutting , head of the hospital but also a hypochondriac , hattie jacques re-takes her role as matron , and charles hawtrey is the psychiatrist dr . goode . \n",
      "the jokes come in fast and so do the laughs , with humorous antics between the matron and sir bernard . \n",
      "this time , williams is after matron ( jacques ) when he needs to prove himself that he is a man after visiting dr . goode . \n",
      "the doctor ( hawtrey ) is sworn to secrecy : - \" i assure you , that anything you say to me today will go in one ear and straight out of the other ! \" \n",
      "bernard thinks he is having a sex change and needs to prove himself . \n",
      "there are great cameos from joan sims , an expectant mother who is many weeks overdue and is eating constantly in every scene , and from kenneth connor as the expectant father who still thinks he's at work ( at the railway station ) . \n",
      "sid james' gang including cyril his son ( kenneth cope ) try to find out where the pills are by getting cyril to dress up as a nurse and live in at the nurses home . \n",
      "he has to share a room with nurse ball ( barbara windsor ) and she soon sees through him ! \n",
      "the film ends with the attempted robbery of the hospital's pills with panic ensuing . \n",
      "there are good performances by hattie jacques as the matron , however her character seems a little more subdued and quieter than her previous 'matron's' . \n",
      "williams is , as usual , on top form , but sid james isn't given a very good part in this movie and i would forgive anyone to forget that he was in the movie at all . \n",
      "the same does not go for charles hawtrey , for although he only first appears in the movie after 30 minutes gone and has scarce screen time , he seems to steal every scene he is in . \n",
      "by not making use of sid james and barbara windsor's talent to full effect , the film seems to flounder , but it certainly makes up for it with it's good storyline and it's other appealing characters . \n",
      "this film is genuinely funny and i could watch it again and again and not get bored ! \n",
      "\n",
      "-------------------------------------------------------------------------------------------------------------------------------------------------------\n",
      "Apres :\n",
      " carry on matron is the last great carry-on film in my opinion . made in 1972 , it still features most of the regulars of this genre . sid james plays the head of a gang of crooks intent on stealing contraceptive pills from the local maternity hospital and selling them off to make a profit , kenneth williams is sir bernard cutting , head of the hospital but also a hypochondriac , hattie jacques re-takes her role as matron , and charles hawtrey is the psychiatrist dr . goode . the jokes come in fast and so do the laughs , with humorous antics between the matron and sir bernard . this time , williams is after matron ( jacques ) when he needs to prove himself that he is a man after visiting dr . goode . the doctor ( hawtrey ) is sworn to secrecy : - `` i assure you , that anything you say to me today will go in one ear and straight out of the other ! `` bernard thinks he is having a sex change and needs to prove himself . there are great cameos from joan sims , an expectant mother who is many weeks overdue and is eating constantly in every scene , and from kenneth connor as the expectant father who still thinks he 's at work ( at the railway station ) . sid james ' gang including cyril his son ( kenneth cope ) try to find out where the pills are by getting cyril to dress up as a nurse and live in at the nurses home . he has to share a room with nurse ball ( barbara windsor ) and she soon sees through him ! the film ends with the attempted robbery of the hospital 's pills with panic ensuing . there are good performances by hattie jacques as the matron , however her character seems a little more subdued and quieter than her previous 'matron 's ' . williams is , as usual , on top form , but sid james is n't given a very good part in this movie and i would forgive anyone to forget that he was in the movie at all . the same does not go for charles hawtrey , for although he only first appears in the movie after 30 minutes gone and has scarce screen time , he seems to steal every scene he is in . by not making use of sid james and barbara windsor 's talent to full effect , the film seems to flounder , but it certainly makes up for it with it 's good storyline and it 's other appealing characters . this film is genuinely funny and i could watch it again and again and not get bored !\n"
     ]
    }
   ],
   "source": [
    "text = movies_df.text[1001]\n",
    "print(\"Avant :\\n\" ,text)\n",
    "text =  ut.remove_names_En(text)\n",
    "print(\"-------------------------------------------------------------------------------------------------------------------------------------------------------\")\n",
    "print(\"Apres :\\n\" ,text)"
   ]
  },
  {
   "cell_type": "markdown",
   "metadata": {},
   "source": [
    "### 2.4 Stemming"
   ]
  },
  {
   "cell_type": "code",
   "execution_count": 15,
   "metadata": {},
   "outputs": [
    {
     "name": "stdout",
     "output_type": "stream",
     "text": [
      "Avant :\n",
      " the kids in the hall are an acquired taste . \n",
      "it took at least a season of watching their show on hbo before i became a believer . \n",
      "maybe after watching a half dozen kids in the hall movies , they would grow into the big screen . \n",
      "my recommendation is that , unless you are a big fan of the kids , skip the film . \n",
      "as it is , their first--and most likely only--attempt at a full length film lacks the qualities that made their comedy work on tv . \n",
      "a big-budget and glossy production can not make up for a lack of spontaneity that permeates their tv show . \n",
      "the kids go through the motions , but you get the feeling that they arent really having fun doing so . \n",
      "and this makes it more difficult for the audience to enjoy their antics . \n",
      "brain candy is a bunch of skits tied together by the story of a pharmaceutical company that develops a new drug to cure depression . \n",
      "in typical sketch-comedy tradition , each actor plays several roles . \n",
      "doctor cooper ( kevin mcdonald ) and his team create the drug . \n",
      "then , under pressure from don roritor ( mark mckinney ) , founder and president of roritor pharmaceuticals , dr . cooper releases the drug into the marketplace . \n",
      "the ensuing distribution of the new happy pill throughout the populace drives the rest of the film . \n",
      "at about 90 minutes , brain candy still seems long . \n",
      "the best thing about sketch comedy--and the kids are no exception--is the ability to quickly deliver the laughs , then go on to another quick skit . \n",
      "but with the additional set-up necessary in telling a longer , coherent story , the laughs just dont come fast enough . \n",
      "strangely , the show is even more tame than it was when on cable tv . \n",
      "the movie makes several attempts at risqueness--mostly by pointing up the gayness of one of scott thompsons characters--but they seem almost forced ; as if they have to live up to a pg rating . \n",
      "one of the best bits , though , does make use of thompsons naked buttocks ; we see him charging into battle--going to have sex with some guys taking a shower . \n",
      "in the classic of this genre , monty python pulled off this delicate balancing act between plot advancement and punchline delivery for most of the holy grail . \n",
      "the kids , unfortunately , are not up to the task . \n",
      "there are some amusing moments , to be sure , but not enough to make the experience an enjoyable one . \n",
      "\n",
      "-------------------------------------------------------------------------------------------------------------------------------------------------------\n",
      "Apres :\n",
      " the kid in the hall are an acquir tast . it took at least a season of watch their show on hbo befor i becam a believ . mayb after watch a half dozen kid in the hall movi , they would grow into the big screen . my recommend is that , unless you are a big fan of the kid , skip the film . as it is , their first -- and most like onli -- attempt at a full length film lack the qualiti that made their comedi work on tv . a big-budget and glossi product can not make up for a lack of spontan that permeat their tv show . the kid go through the motion , but you get the feel that they arent realli have fun do so . and this make it more difficult for the audienc to enjoy their antic . brain candi is a bunch of skit tie togeth by the stori of a pharmaceut compani that develop a new drug to cure depress . in typic sketch-comedi tradit , each actor play sever role . doctor cooper ( kevin mcdonald ) and his team creat the drug . then , under pressur from don roritor ( mark mckinney ) , founder and presid of roritor pharmaceut , dr . cooper releas the drug into the marketplac . the ensu distribut of the new happi pill throughout the populac drive the rest of the film . at about 90 minut , brain candi still seem long . the best thing about sketch comedi -- and the kid are no except -- is the abil to quick deliv the laugh , then go on to anoth quick skit . but with the addit set-up necessari in tell a longer , coher stori , the laugh just dont come fast enough . strang , the show is even more tame than it was when on cabl tv . the movi make sever attempt at risqu -- most by point up the gay of one of scott thompson charact -- but they seem almost forc ; as if they have to live up to a pg rate . one of the best bit , though , doe make use of thompson nake buttock ; we see him charg into battl -- go to have sex with some guy take a shower . in the classic of this genr , monti python pull off this delic balanc act between plot advanc and punchlin deliveri for most of the holi grail . the kid , unfortun , are not up to the task . there are some amus moment , to be sure , but not enough to make the experi an enjoy one .\n"
     ]
    }
   ],
   "source": [
    "text = movies_df.text[0]\n",
    "print(\"Avant :\\n\" ,text)\n",
    "text =  ut.stemming_En(text)\n",
    "print(\"-------------------------------------------------------------------------------------------------------------------------------------------------------\")\n",
    "print(\"Apres :\\n\" ,text)"
   ]
  },
  {
   "cell_type": "markdown",
   "metadata": {},
   "source": [
    "### 2.5 Lemmatization"
   ]
  },
  {
   "cell_type": "markdown",
   "metadata": {},
   "source": [
    "Pour ce probléme d'analyse de sentiments, nous avons choisi d'utiliser la lemmatization au lieu du stemming car elle est plus précise, et l'analyse de texte pour la compréhension humaine nécessite plus de précision."
   ]
  },
  {
   "cell_type": "code",
   "execution_count": 16,
   "metadata": {},
   "outputs": [
    {
     "name": "stdout",
     "output_type": "stream",
     "text": [
      "Avant :\n",
      " carry on matron is the last great carry-on film in my opinion . \n",
      "made in 1972 , it still features most of the regulars of this genre . \n",
      "sid james plays the head of a gang of crooks intent on stealing contraceptive pills from the local maternity hospital and selling them off to make a profit , kenneth williams is sir bernard cutting , head of the hospital but also a hypochondriac , hattie jacques re-takes her role as matron , and charles hawtrey is the psychiatrist dr . goode . \n",
      "the jokes come in fast and so do the laughs , with humorous antics between the matron and sir bernard . \n",
      "this time , williams is after matron ( jacques ) when he needs to prove himself that he is a man after visiting dr . goode . \n",
      "the doctor ( hawtrey ) is sworn to secrecy : - \" i assure you , that anything you say to me today will go in one ear and straight out of the other ! \" \n",
      "bernard thinks he is having a sex change and needs to prove himself . \n",
      "there are great cameos from joan sims , an expectant mother who is many weeks overdue and is eating constantly in every scene , and from kenneth connor as the expectant father who still thinks he's at work ( at the railway station ) . \n",
      "sid james' gang including cyril his son ( kenneth cope ) try to find out where the pills are by getting cyril to dress up as a nurse and live in at the nurses home . \n",
      "he has to share a room with nurse ball ( barbara windsor ) and she soon sees through him ! \n",
      "the film ends with the attempted robbery of the hospital's pills with panic ensuing . \n",
      "there are good performances by hattie jacques as the matron , however her character seems a little more subdued and quieter than her previous 'matron's' . \n",
      "williams is , as usual , on top form , but sid james isn't given a very good part in this movie and i would forgive anyone to forget that he was in the movie at all . \n",
      "the same does not go for charles hawtrey , for although he only first appears in the movie after 30 minutes gone and has scarce screen time , he seems to steal every scene he is in . \n",
      "by not making use of sid james and barbara windsor's talent to full effect , the film seems to flounder , but it certainly makes up for it with it's good storyline and it's other appealing characters . \n",
      "this film is genuinely funny and i could watch it again and again and not get bored ! \n",
      "\n",
      "-------------------------------------------------------------------------------------------------------------------------------------------------------\n",
      "Apres :\n",
      " carry on matron is the last great carry-on film in my opinion . made in 1972 , it still feature most of the regular of this genre . sid james play the head of a gang of crook intent on stealing contraceptive pill from the local maternity hospital and selling them off to make a profit , kenneth williams is sir bernard cutting , head of the hospital but also a hypochondriac , hattie jacques re-takes her role a matron , and charles hawtrey is the psychiatrist dr . goode . the joke come in fast and so do the laugh , with humorous antic between the matron and sir bernard . this time , williams is after matron ( jacques ) when he need to prove himself that he is a man after visiting dr . goode . the doctor ( hawtrey ) is sworn to secrecy : - `` i assure you , that anything you say to me today will go in one ear and straight out of the other ! `` bernard think he is having a sex change and need to prove himself . there are great cameo from joan sims , an expectant mother who is many week overdue and is eating constantly in every scene , and from kenneth connor a the expectant father who still think he 's at work ( at the railway station ) . sid james ' gang including cyril his son ( kenneth cope ) try to find out where the pill are by getting cyril to dress up a a nurse and live in at the nurse home . he ha to share a room with nurse ball ( barbara windsor ) and she soon see through him ! the film end with the attempted robbery of the hospital 's pill with panic ensuing . there are good performance by hattie jacques a the matron , however her character seems a little more subdued and quieter than her previous 'matron 's ' . williams is , a usual , on top form , but sid james is n't given a very good part in this movie and i would forgive anyone to forget that he wa in the movie at all . the same doe not go for charles hawtrey , for although he only first appears in the movie after 30 minute gone and ha scarce screen time , he seems to steal every scene he is in . by not making use of sid james and barbara windsor 's talent to full effect , the film seems to flounder , but it certainly make up for it with it 's good storyline and it 's other appealing character . this film is genuinely funny and i could watch it again and again and not get bored !\n"
     ]
    }
   ],
   "source": [
    "text = movies_df.text[1001]\n",
    "print(\"Avant :\\n\" ,text)\n",
    "text =  ut.lemmatization(text)\n",
    "print(\"-------------------------------------------------------------------------------------------------------------------------------------------------------\")\n",
    "print(\"Apres :\\n\" ,text)"
   ]
  },
  {
   "cell_type": "markdown",
   "metadata": {},
   "source": [
    "### 2.6 Suppression des stop words"
   ]
  },
  {
   "cell_type": "code",
   "execution_count": 17,
   "metadata": {},
   "outputs": [
    {
     "name": "stdout",
     "output_type": "stream",
     "text": [
      "Avant :\n",
      " carry on matron is the last great carry-on film in my opinion . \n",
      "made in 1972 , it still features most of the regulars of this genre . \n",
      "sid james plays the head of a gang of crooks intent on stealing contraceptive pills from the local maternity hospital and selling them off to make a profit , kenneth williams is sir bernard cutting , head of the hospital but also a hypochondriac , hattie jacques re-takes her role as matron , and charles hawtrey is the psychiatrist dr . goode . \n",
      "the jokes come in fast and so do the laughs , with humorous antics between the matron and sir bernard . \n",
      "this time , williams is after matron ( jacques ) when he needs to prove himself that he is a man after visiting dr . goode . \n",
      "the doctor ( hawtrey ) is sworn to secrecy : - \" i assure you , that anything you say to me today will go in one ear and straight out of the other ! \" \n",
      "bernard thinks he is having a sex change and needs to prove himself . \n",
      "there are great cameos from joan sims , an expectant mother who is many weeks overdue and is eating constantly in every scene , and from kenneth connor as the expectant father who still thinks he's at work ( at the railway station ) . \n",
      "sid james' gang including cyril his son ( kenneth cope ) try to find out where the pills are by getting cyril to dress up as a nurse and live in at the nurses home . \n",
      "he has to share a room with nurse ball ( barbara windsor ) and she soon sees through him ! \n",
      "the film ends with the attempted robbery of the hospital's pills with panic ensuing . \n",
      "there are good performances by hattie jacques as the matron , however her character seems a little more subdued and quieter than her previous 'matron's' . \n",
      "williams is , as usual , on top form , but sid james isn't given a very good part in this movie and i would forgive anyone to forget that he was in the movie at all . \n",
      "the same does not go for charles hawtrey , for although he only first appears in the movie after 30 minutes gone and has scarce screen time , he seems to steal every scene he is in . \n",
      "by not making use of sid james and barbara windsor's talent to full effect , the film seems to flounder , but it certainly makes up for it with it's good storyline and it's other appealing characters . \n",
      "this film is genuinely funny and i could watch it again and again and not get bored ! \n",
      "\n",
      "-------------------------------------------------------------------------------------------------------------------------------------------------------\n",
      "Apres :\n",
      " carry matron last great carry-on film opinion . made 1972 , still features regulars genre . sid james plays head gang crooks intent stealing contraceptive pills local maternity hospital selling make profit , kenneth williams sir bernard cutting , head hospital also hypochondriac , hattie jacques re-takes role matron , charles hawtrey psychiatrist dr . goode . jokes come fast laughs , humorous antics matron sir bernard . time , williams matron ( jacques ) needs prove man visiting dr . goode . doctor ( hawtrey ) sworn secrecy : - `` assure , anything say today go one ear straight ! `` bernard thinks sex change needs prove . great cameos joan sims , expectant mother many weeks overdue eating constantly every scene , kenneth connor expectant father still thinks 's work ( railway station ) . sid james ' gang including cyril son ( kenneth cope ) try find pills getting cyril dress nurse live nurses home . share room nurse ball ( barbara windsor ) soon sees ! film ends attempted robbery hospital 's pills panic ensuing . good performances hattie jacques matron , however character seems little subdued quieter previous 'matron 's ' . williams , usual , top form , sid james n't given good part movie would forgive anyone forget movie . go charles hawtrey , although first appears movie 30 minutes gone scarce screen time , seems steal every scene . making use sid james barbara windsor 's talent full effect , film seems flounder , certainly makes 's good storyline 's appealing characters . film genuinely funny could watch get bored !\n"
     ]
    }
   ],
   "source": [
    "text = movies_df.text[1001]\n",
    "print(\"Avant :\\n\" ,text)\n",
    "text =  ut.remove_stopwords_En(text)\n",
    "print(\"-------------------------------------------------------------------------------------------------------------------------------------------------------\")\n",
    "print(\"Apres :\\n\" ,text)"
   ]
  },
  {
   "cell_type": "markdown",
   "metadata": {},
   "source": [
    "### 2.7 Extraction de la premiére ligne"
   ]
  },
  {
   "cell_type": "code",
   "execution_count": 18,
   "metadata": {},
   "outputs": [
    {
     "name": "stdout",
     "output_type": "stream",
     "text": [
      "Avant :\n",
      " the kids in the hall are an acquired taste . \n",
      "it took at least a season of watching their show on hbo before i became a believer . \n",
      "maybe after watching a half dozen kids in the hall movies , they would grow into the big screen . \n",
      "my recommendation is that , unless you are a big fan of the kids , skip the film . \n",
      "as it is , their first--and most likely only--attempt at a full length film lacks the qualities that made their comedy work on tv . \n",
      "a big-budget and glossy production can not make up for a lack of spontaneity that permeates their tv show . \n",
      "the kids go through the motions , but you get the feeling that they arent really having fun doing so . \n",
      "and this makes it more difficult for the audience to enjoy their antics . \n",
      "brain candy is a bunch of skits tied together by the story of a pharmaceutical company that develops a new drug to cure depression . \n",
      "in typical sketch-comedy tradition , each actor plays several roles . \n",
      "doctor cooper ( kevin mcdonald ) and his team create the drug . \n",
      "then , under pressure from don roritor ( mark mckinney ) , founder and president of roritor pharmaceuticals , dr . cooper releases the drug into the marketplace . \n",
      "the ensuing distribution of the new happy pill throughout the populace drives the rest of the film . \n",
      "at about 90 minutes , brain candy still seems long . \n",
      "the best thing about sketch comedy--and the kids are no exception--is the ability to quickly deliver the laughs , then go on to another quick skit . \n",
      "but with the additional set-up necessary in telling a longer , coherent story , the laughs just dont come fast enough . \n",
      "strangely , the show is even more tame than it was when on cable tv . \n",
      "the movie makes several attempts at risqueness--mostly by pointing up the gayness of one of scott thompsons characters--but they seem almost forced ; as if they have to live up to a pg rating . \n",
      "one of the best bits , though , does make use of thompsons naked buttocks ; we see him charging into battle--going to have sex with some guys taking a shower . \n",
      "in the classic of this genre , monty python pulled off this delicate balancing act between plot advancement and punchline delivery for most of the holy grail . \n",
      "the kids , unfortunately , are not up to the task . \n",
      "there are some amusing moments , to be sure , but not enough to make the experience an enjoyable one . \n",
      "\n",
      "-------------------------------------------------------------------------------------------------------------------------------------------------------\n",
      "Apres :\n",
      " the kids in the hall are an acquired taste \n"
     ]
    }
   ],
   "source": [
    "text = movies_df.text[0]\n",
    "print(\"Avant :\\n\" ,text)\n",
    "text =  ut.extraire_debut(text)\n",
    "print(\"-------------------------------------------------------------------------------------------------------------------------------------------------------\")\n",
    "print(\"Apres :\\n\" ,text)"
   ]
  },
  {
   "cell_type": "markdown",
   "metadata": {},
   "source": [
    "### 2.8 Extracion de la derniére ligne"
   ]
  },
  {
   "cell_type": "code",
   "execution_count": 19,
   "metadata": {},
   "outputs": [
    {
     "name": "stdout",
     "output_type": "stream",
     "text": [
      "Avant :\n",
      " the kids in the hall are an acquired taste . \n",
      "it took at least a season of watching their show on hbo before i became a believer . \n",
      "maybe after watching a half dozen kids in the hall movies , they would grow into the big screen . \n",
      "my recommendation is that , unless you are a big fan of the kids , skip the film . \n",
      "as it is , their first--and most likely only--attempt at a full length film lacks the qualities that made their comedy work on tv . \n",
      "a big-budget and glossy production can not make up for a lack of spontaneity that permeates their tv show . \n",
      "the kids go through the motions , but you get the feeling that they arent really having fun doing so . \n",
      "and this makes it more difficult for the audience to enjoy their antics . \n",
      "brain candy is a bunch of skits tied together by the story of a pharmaceutical company that develops a new drug to cure depression . \n",
      "in typical sketch-comedy tradition , each actor plays several roles . \n",
      "doctor cooper ( kevin mcdonald ) and his team create the drug . \n",
      "then , under pressure from don roritor ( mark mckinney ) , founder and president of roritor pharmaceuticals , dr . cooper releases the drug into the marketplace . \n",
      "the ensuing distribution of the new happy pill throughout the populace drives the rest of the film . \n",
      "at about 90 minutes , brain candy still seems long . \n",
      "the best thing about sketch comedy--and the kids are no exception--is the ability to quickly deliver the laughs , then go on to another quick skit . \n",
      "but with the additional set-up necessary in telling a longer , coherent story , the laughs just dont come fast enough . \n",
      "strangely , the show is even more tame than it was when on cable tv . \n",
      "the movie makes several attempts at risqueness--mostly by pointing up the gayness of one of scott thompsons characters--but they seem almost forced ; as if they have to live up to a pg rating . \n",
      "one of the best bits , though , does make use of thompsons naked buttocks ; we see him charging into battle--going to have sex with some guys taking a shower . \n",
      "in the classic of this genre , monty python pulled off this delicate balancing act between plot advancement and punchline delivery for most of the holy grail . \n",
      "the kids , unfortunately , are not up to the task . \n",
      "there are some amusing moments , to be sure , but not enough to make the experience an enjoyable one . \n",
      "\n",
      "-------------------------------------------------------------------------------------------------------------------------------------------------------\n",
      "Apres :\n",
      "  \n",
      "there are some amusing moments , to be sure , but not enough to make the experience an enjoyable one \n"
     ]
    }
   ],
   "source": [
    "text = movies_df.text[0]\n",
    "print(\"Avant :\\n\" ,text)\n",
    "text =  ut.extraire_fin(text)\n",
    "print(\"-------------------------------------------------------------------------------------------------------------------------------------------------------\")\n",
    "print(\"Apres :\\n\" ,text)"
   ]
  }
 ],
 "metadata": {
  "kernelspec": {
   "display_name": "Python 3",
   "language": "python",
   "name": "python3"
  },
  "language_info": {
   "codemirror_mode": {
    "name": "ipython",
    "version": 3
   },
   "file_extension": ".py",
   "mimetype": "text/x-python",
   "name": "python",
   "nbconvert_exporter": "python",
   "pygments_lexer": "ipython3",
   "version": "3.8.10"
  }
 },
 "nbformat": 4,
 "nbformat_minor": 2
}
